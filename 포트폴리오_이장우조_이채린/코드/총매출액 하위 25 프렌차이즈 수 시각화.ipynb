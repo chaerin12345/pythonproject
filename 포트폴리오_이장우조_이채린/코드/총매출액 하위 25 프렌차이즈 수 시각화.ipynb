{
 "cells": [
  {
   "cell_type": "code",
   "execution_count": 2,
   "id": "b92b8b01",
   "metadata": {},
   "outputs": [],
   "source": [
    "# 필요 모듈 import\n",
    "import pandas as pd\n",
    "import numpy as np\n",
    "import matplotlib.pyplot as plt #그래프 패키지 모듈 등록\n",
    "%matplotlib inline "
   ]
  },
  {
   "cell_type": "code",
   "execution_count": 3,
   "id": "038d68c7",
   "metadata": {},
   "outputs": [],
   "source": [
    "# 한 셀에서 여러 변수 출력코드\n",
    "from IPython.core.interactiveshell import InteractiveShell\n",
    "InteractiveShell.ast_node_interactivity=\"all\""
   ]
  },
  {
   "cell_type": "code",
   "execution_count": 4,
   "id": "4ce6900a",
   "metadata": {},
   "outputs": [],
   "source": [
    "# 한글 문제\n",
    "# matplotlit의 기본 폰트에서 한글 지원되지 않기 때문에\n",
    "# matplotlib의 폰트 변경 필요\n",
    "import platform\n",
    "\n",
    "from matplotlib import font_manager, rc\n",
    "plt.rcParams['axes.unicode_minus'] = False\n",
    "\n",
    "if platform.system() == 'Darwin':  # 맥OS \n",
    "    rc('font', family='AppleGothic')\n",
    "elif platform.system() == 'Windows':  # 윈도우\n",
    "    path = \"c:/Windows/Fonts/malgun.ttf\"\n",
    "    font_name = font_manager.FontProperties(fname=path).get_name()\n",
    "    rc('font', family=font_name)\n",
    "else:\n",
    "    print('Unknown system...  sorry~~~')"
   ]
  },
  {
   "cell_type": "code",
   "execution_count": 5,
   "id": "684d31e1",
   "metadata": {},
   "outputs": [],
   "source": [
    "df = pd.read_csv(\"/Users/crlee/pandas/서울시_골목상권_재범주.csv\",encoding='cp949',low_memory=False)"
   ]
  },
  {
   "cell_type": "markdown",
   "id": "276961d7",
   "metadata": {},
   "source": [
    "### 필요한 열만 추출"
   ]
  },
  {
   "cell_type": "code",
   "execution_count": 6,
   "id": "9d0a4276",
   "metadata": {},
   "outputs": [
    {
     "data": {
      "text/html": [
       "<div>\n",
       "<style scoped>\n",
       "    .dataframe tbody tr th:only-of-type {\n",
       "        vertical-align: middle;\n",
       "    }\n",
       "\n",
       "    .dataframe tbody tr th {\n",
       "        vertical-align: top;\n",
       "    }\n",
       "\n",
       "    .dataframe thead th {\n",
       "        text-align: right;\n",
       "    }\n",
       "</style>\n",
       "<table border=\"1\" class=\"dataframe\">\n",
       "  <thead>\n",
       "    <tr style=\"text-align: right;\">\n",
       "      <th></th>\n",
       "      <th>프랜차이즈_점포_수</th>\n",
       "      <th>시군구_명</th>\n",
       "      <th>상권_코드_명</th>\n",
       "      <th>상권별_매출액_평균</th>\n",
       "    </tr>\n",
       "  </thead>\n",
       "  <tbody>\n",
       "    <tr>\n",
       "      <th>0</th>\n",
       "      <td>15</td>\n",
       "      <td>강북구</td>\n",
       "      <td>4.19민주묘지역 2번</td>\n",
       "      <td>1.787499e+08</td>\n",
       "    </tr>\n",
       "    <tr>\n",
       "      <th>1</th>\n",
       "      <td>4</td>\n",
       "      <td>강북구</td>\n",
       "      <td>KT&amp;G 북부지사</td>\n",
       "      <td>1.489174e+08</td>\n",
       "    </tr>\n",
       "    <tr>\n",
       "      <th>2</th>\n",
       "      <td>13</td>\n",
       "      <td>강북구</td>\n",
       "      <td>가오리역 1번</td>\n",
       "      <td>1.736823e+08</td>\n",
       "    </tr>\n",
       "    <tr>\n",
       "      <th>3</th>\n",
       "      <td>6</td>\n",
       "      <td>강북구</td>\n",
       "      <td>가오리역 2번</td>\n",
       "      <td>1.330093e+08</td>\n",
       "    </tr>\n",
       "    <tr>\n",
       "      <th>4</th>\n",
       "      <td>9</td>\n",
       "      <td>강북구</td>\n",
       "      <td>강북구청</td>\n",
       "      <td>1.955185e+08</td>\n",
       "    </tr>\n",
       "    <tr>\n",
       "      <th>...</th>\n",
       "      <td>...</td>\n",
       "      <td>...</td>\n",
       "      <td>...</td>\n",
       "      <td>...</td>\n",
       "    </tr>\n",
       "    <tr>\n",
       "      <th>1082</th>\n",
       "      <td>2</td>\n",
       "      <td>서초구</td>\n",
       "      <td>청계산원터골</td>\n",
       "      <td>7.587535e+08</td>\n",
       "    </tr>\n",
       "    <tr>\n",
       "      <th>1083</th>\n",
       "      <td>0</td>\n",
       "      <td>서초구</td>\n",
       "      <td>청계산입구역 2번(내곡동주민센터)</td>\n",
       "      <td>5.359684e+08</td>\n",
       "    </tr>\n",
       "    <tr>\n",
       "      <th>1084</th>\n",
       "      <td>1</td>\n",
       "      <td>서초구</td>\n",
       "      <td>한국상담대학원대학교</td>\n",
       "      <td>6.713270e+08</td>\n",
       "    </tr>\n",
       "    <tr>\n",
       "      <th>1085</th>\n",
       "      <td>2</td>\n",
       "      <td>서초구</td>\n",
       "      <td>한전아트센터</td>\n",
       "      <td>6.967944e+07</td>\n",
       "    </tr>\n",
       "    <tr>\n",
       "      <th>1086</th>\n",
       "      <td>0</td>\n",
       "      <td>서초구</td>\n",
       "      <td>헌인가구단지</td>\n",
       "      <td>2.221381e+08</td>\n",
       "    </tr>\n",
       "  </tbody>\n",
       "</table>\n",
       "<p>1087 rows × 4 columns</p>\n",
       "</div>"
      ],
      "text/plain": [
       "      프랜차이즈_점포_수 시군구_명             상권_코드_명    상권별_매출액_평균\n",
       "0             15   강북구        4.19민주묘지역 2번  1.787499e+08\n",
       "1              4   강북구           KT&G 북부지사  1.489174e+08\n",
       "2             13   강북구             가오리역 1번  1.736823e+08\n",
       "3              6   강북구             가오리역 2번  1.330093e+08\n",
       "4              9   강북구                강북구청  1.955185e+08\n",
       "...          ...   ...                 ...           ...\n",
       "1082           2   서초구              청계산원터골  7.587535e+08\n",
       "1083           0   서초구  청계산입구역 2번(내곡동주민센터)  5.359684e+08\n",
       "1084           1   서초구          한국상담대학원대학교  6.713270e+08\n",
       "1085           2   서초구              한전아트센터  6.967944e+07\n",
       "1086           0   서초구              헌인가구단지  2.221381e+08\n",
       "\n",
       "[1087 rows x 4 columns]"
      ]
     },
     "execution_count": 6,
     "metadata": {},
     "output_type": "execute_result"
    }
   ],
   "source": [
    "select_col = [ '프랜차이즈_점포_수','시군구_명','상권_코드_명','상권별_매출액_평균']\n",
    "df2 = df[select_col]\n",
    "df2"
   ]
  },
  {
   "cell_type": "markdown",
   "id": "42d84746",
   "metadata": {},
   "source": [
    "### 상위 매출액 평균으로 내림차순 "
   ]
  },
  {
   "cell_type": "code",
   "execution_count": 7,
   "id": "2f8cbadf",
   "metadata": {},
   "outputs": [
    {
     "data": {
      "text/html": [
       "<div>\n",
       "<style scoped>\n",
       "    .dataframe tbody tr th:only-of-type {\n",
       "        vertical-align: middle;\n",
       "    }\n",
       "\n",
       "    .dataframe tbody tr th {\n",
       "        vertical-align: top;\n",
       "    }\n",
       "\n",
       "    .dataframe thead th {\n",
       "        text-align: right;\n",
       "    }\n",
       "</style>\n",
       "<table border=\"1\" class=\"dataframe\">\n",
       "  <thead>\n",
       "    <tr style=\"text-align: right;\">\n",
       "      <th></th>\n",
       "      <th>프랜차이즈_점포_수</th>\n",
       "      <th>시군구_명</th>\n",
       "      <th>상권_코드_명</th>\n",
       "      <th>상권별_매출액_평균</th>\n",
       "    </tr>\n",
       "  </thead>\n",
       "  <tbody>\n",
       "    <tr>\n",
       "      <th>486</th>\n",
       "      <td>0</td>\n",
       "      <td>용산구</td>\n",
       "      <td>남정초등학교</td>\n",
       "      <td>4.088895e+09</td>\n",
       "    </tr>\n",
       "    <tr>\n",
       "      <th>475</th>\n",
       "      <td>4</td>\n",
       "      <td>영등포구</td>\n",
       "      <td>영등포시장역 3번</td>\n",
       "      <td>2.648102e+09</td>\n",
       "    </tr>\n",
       "    <tr>\n",
       "      <th>976</th>\n",
       "      <td>42</td>\n",
       "      <td>성동구</td>\n",
       "      <td>성수초등학교</td>\n",
       "      <td>1.761761e+09</td>\n",
       "    </tr>\n",
       "    <tr>\n",
       "      <th>975</th>\n",
       "      <td>20</td>\n",
       "      <td>성동구</td>\n",
       "      <td>성수동카페거리</td>\n",
       "      <td>1.704766e+09</td>\n",
       "    </tr>\n",
       "    <tr>\n",
       "      <th>844</th>\n",
       "      <td>2</td>\n",
       "      <td>강남구</td>\n",
       "      <td>삼성중앙역 5번</td>\n",
       "      <td>1.663697e+09</td>\n",
       "    </tr>\n",
       "    <tr>\n",
       "      <th>...</th>\n",
       "      <td>...</td>\n",
       "      <td>...</td>\n",
       "      <td>...</td>\n",
       "      <td>...</td>\n",
       "    </tr>\n",
       "    <tr>\n",
       "      <th>311</th>\n",
       "      <td>3</td>\n",
       "      <td>강서구</td>\n",
       "      <td>백석중학교</td>\n",
       "      <td>1.365018e+07</td>\n",
       "    </tr>\n",
       "    <tr>\n",
       "      <th>778</th>\n",
       "      <td>1</td>\n",
       "      <td>은평구</td>\n",
       "      <td>덕산중학교</td>\n",
       "      <td>1.347007e+07</td>\n",
       "    </tr>\n",
       "    <tr>\n",
       "      <th>791</th>\n",
       "      <td>1</td>\n",
       "      <td>은평구</td>\n",
       "      <td>수색역 1번</td>\n",
       "      <td>9.737607e+06</td>\n",
       "    </tr>\n",
       "    <tr>\n",
       "      <th>386</th>\n",
       "      <td>3</td>\n",
       "      <td>관악구</td>\n",
       "      <td>청림동주민센터(상도중학교)</td>\n",
       "      <td>6.867693e+06</td>\n",
       "    </tr>\n",
       "    <tr>\n",
       "      <th>264</th>\n",
       "      <td>4</td>\n",
       "      <td>중랑구</td>\n",
       "      <td>세화어린이공원</td>\n",
       "      <td>3.875653e+06</td>\n",
       "    </tr>\n",
       "  </tbody>\n",
       "</table>\n",
       "<p>1087 rows × 4 columns</p>\n",
       "</div>"
      ],
      "text/plain": [
       "     프랜차이즈_점포_수 시군구_명         상권_코드_명    상권별_매출액_평균\n",
       "486           0   용산구          남정초등학교  4.088895e+09\n",
       "475           4  영등포구       영등포시장역 3번  2.648102e+09\n",
       "976          42   성동구          성수초등학교  1.761761e+09\n",
       "975          20   성동구         성수동카페거리  1.704766e+09\n",
       "844           2   강남구        삼성중앙역 5번  1.663697e+09\n",
       "..          ...   ...             ...           ...\n",
       "311           3   강서구           백석중학교  1.365018e+07\n",
       "778           1   은평구           덕산중학교  1.347007e+07\n",
       "791           1   은평구          수색역 1번  9.737607e+06\n",
       "386           3   관악구  청림동주민센터(상도중학교)  6.867693e+06\n",
       "264           4   중랑구         세화어린이공원  3.875653e+06\n",
       "\n",
       "[1087 rows x 4 columns]"
      ]
     },
     "execution_count": 7,
     "metadata": {},
     "output_type": "execute_result"
    }
   ],
   "source": [
    "df2 = df2.sort_values('상권별_매출액_평균', ascending=False)\n",
    "df2"
   ]
  },
  {
   "cell_type": "markdown",
   "id": "25359c2a",
   "metadata": {},
   "source": [
    "### 전체 프렌차이즈 점포 수 평균"
   ]
  },
  {
   "cell_type": "code",
   "execution_count": 8,
   "id": "927dce36",
   "metadata": {},
   "outputs": [
    {
     "data": {
      "text/plain": [
       "10.78748850045998"
      ]
     },
     "execution_count": 8,
     "metadata": {},
     "output_type": "execute_result"
    }
   ],
   "source": [
    "mean_all = df2['프랜차이즈_점포_수'].mean()\n",
    "mean_all"
   ]
  },
  {
   "cell_type": "code",
   "execution_count": 9,
   "id": "08adc471",
   "metadata": {},
   "outputs": [],
   "source": [
    "### 하위 25% 추출"
   ]
  },
  {
   "cell_type": "code",
   "execution_count": 13,
   "id": "91ee0627",
   "metadata": {},
   "outputs": [
    {
     "data": {
      "text/html": [
       "<div>\n",
       "<style scoped>\n",
       "    .dataframe tbody tr th:only-of-type {\n",
       "        vertical-align: middle;\n",
       "    }\n",
       "\n",
       "    .dataframe tbody tr th {\n",
       "        vertical-align: top;\n",
       "    }\n",
       "\n",
       "    .dataframe thead th {\n",
       "        text-align: right;\n",
       "    }\n",
       "</style>\n",
       "<table border=\"1\" class=\"dataframe\">\n",
       "  <thead>\n",
       "    <tr style=\"text-align: right;\">\n",
       "      <th></th>\n",
       "      <th>프랜차이즈_점포_수</th>\n",
       "      <th>시군구_명</th>\n",
       "      <th>상권_코드_명</th>\n",
       "      <th>상권별_매출액_평균</th>\n",
       "    </tr>\n",
       "  </thead>\n",
       "  <tbody>\n",
       "    <tr>\n",
       "      <th>786</th>\n",
       "      <td>17</td>\n",
       "      <td>은평구</td>\n",
       "      <td>새절역 3번</td>\n",
       "      <td>1.221885e+08</td>\n",
       "    </tr>\n",
       "    <tr>\n",
       "      <th>658</th>\n",
       "      <td>9</td>\n",
       "      <td>서대문구</td>\n",
       "      <td>연가초등학교</td>\n",
       "      <td>1.221047e+08</td>\n",
       "    </tr>\n",
       "    <tr>\n",
       "      <th>932</th>\n",
       "      <td>6</td>\n",
       "      <td>종로구</td>\n",
       "      <td>신설동역 12번</td>\n",
       "      <td>1.219684e+08</td>\n",
       "    </tr>\n",
       "    <tr>\n",
       "      <th>106</th>\n",
       "      <td>10</td>\n",
       "      <td>구로구</td>\n",
       "      <td>구로초등학교</td>\n",
       "      <td>1.217867e+08</td>\n",
       "    </tr>\n",
       "    <tr>\n",
       "      <th>69</th>\n",
       "      <td>0</td>\n",
       "      <td>강동구</td>\n",
       "      <td>선사초등학교</td>\n",
       "      <td>1.217232e+08</td>\n",
       "    </tr>\n",
       "    <tr>\n",
       "      <th>...</th>\n",
       "      <td>...</td>\n",
       "      <td>...</td>\n",
       "      <td>...</td>\n",
       "      <td>...</td>\n",
       "    </tr>\n",
       "    <tr>\n",
       "      <th>311</th>\n",
       "      <td>3</td>\n",
       "      <td>강서구</td>\n",
       "      <td>백석중학교</td>\n",
       "      <td>1.365018e+07</td>\n",
       "    </tr>\n",
       "    <tr>\n",
       "      <th>778</th>\n",
       "      <td>1</td>\n",
       "      <td>은평구</td>\n",
       "      <td>덕산중학교</td>\n",
       "      <td>1.347007e+07</td>\n",
       "    </tr>\n",
       "    <tr>\n",
       "      <th>791</th>\n",
       "      <td>1</td>\n",
       "      <td>은평구</td>\n",
       "      <td>수색역 1번</td>\n",
       "      <td>9.737607e+06</td>\n",
       "    </tr>\n",
       "    <tr>\n",
       "      <th>386</th>\n",
       "      <td>3</td>\n",
       "      <td>관악구</td>\n",
       "      <td>청림동주민센터(상도중학교)</td>\n",
       "      <td>6.867693e+06</td>\n",
       "    </tr>\n",
       "    <tr>\n",
       "      <th>264</th>\n",
       "      <td>4</td>\n",
       "      <td>중랑구</td>\n",
       "      <td>세화어린이공원</td>\n",
       "      <td>3.875653e+06</td>\n",
       "    </tr>\n",
       "  </tbody>\n",
       "</table>\n",
       "<p>272 rows × 4 columns</p>\n",
       "</div>"
      ],
      "text/plain": [
       "     프랜차이즈_점포_수 시군구_명         상권_코드_명    상권별_매출액_평균\n",
       "786          17   은평구          새절역 3번  1.221885e+08\n",
       "658           9  서대문구          연가초등학교  1.221047e+08\n",
       "932           6   종로구        신설동역 12번  1.219684e+08\n",
       "106          10   구로구          구로초등학교  1.217867e+08\n",
       "69            0   강동구          선사초등학교  1.217232e+08\n",
       "..          ...   ...             ...           ...\n",
       "311           3   강서구           백석중학교  1.365018e+07\n",
       "778           1   은평구           덕산중학교  1.347007e+07\n",
       "791           1   은평구          수색역 1번  9.737607e+06\n",
       "386           3   관악구  청림동주민센터(상도중학교)  6.867693e+06\n",
       "264           4   중랑구         세화어린이공원  3.875653e+06\n",
       "\n",
       "[272 rows x 4 columns]"
      ]
     },
     "execution_count": 13,
     "metadata": {},
     "output_type": "execute_result"
    }
   ],
   "source": [
    "# 상권별_매출액_평균을 기준으로 하위 25% 추출\n",
    "bottom25 = df2['상권별_매출액_평균'].quantile(0.25)  \n",
    "bottom_25 = df2[df2['상권별_매출액_평균'] <= bottom25] \n",
    "bottom_25\n"
   ]
  },
  {
   "cell_type": "markdown",
   "id": "41c97c0a",
   "metadata": {},
   "source": [
    "### 하위 25% 프렌차이즈 점포 수 평균"
   ]
  },
  {
   "cell_type": "code",
   "execution_count": 15,
   "id": "a4a9fc6a",
   "metadata": {},
   "outputs": [
    {
     "data": {
      "text/plain": [
       "4.349264705882353"
      ]
     },
     "execution_count": 15,
     "metadata": {},
     "output_type": "execute_result"
    }
   ],
   "source": [
    "mean_25 = bottom_25['프랜차이즈_점포_수'].mean()\n",
    "mean_25"
   ]
  },
  {
   "cell_type": "code",
   "execution_count": 16,
   "id": "19432d6d",
   "metadata": {},
   "outputs": [
    {
     "data": {
      "text/plain": [
       "<matplotlib.collections.PathCollection at 0x7fd4d1013670>"
      ]
     },
     "execution_count": 16,
     "metadata": {},
     "output_type": "execute_result"
    },
    {
     "data": {
      "text/plain": [
       "Text(0.5, 0, '상권_코드_명')"
      ]
     },
     "execution_count": 16,
     "metadata": {},
     "output_type": "execute_result"
    },
    {
     "data": {
      "text/plain": [
       "Text(0, 0.5, '프랜차이즈_점포_수')"
      ]
     },
     "execution_count": 16,
     "metadata": {},
     "output_type": "execute_result"
    },
    {
     "data": {
      "text/plain": [
       "Text(0.5, 1.0, 'Sales Trend')"
      ]
     },
     "execution_count": 16,
     "metadata": {},
     "output_type": "execute_result"
    },
    {
     "data": {
      "image/png": "[encoded data removed]",
      "text/plain": [
       "<Figure size 640x480 with 1 Axes>"
      ]
     },
     "metadata": {},
     "output_type": "display_data"
    }
   ],
   "source": [
    "plt.scatter(bottom_25['상권_코드_명'], bottom_25['프랜차이즈_점포_수'])\n",
    "\n",
    "# 그래프 레이블 및 제목 설정\n",
    "plt.xlabel('상권_코드_명')\n",
    "plt.ylabel('프랜차이즈_점포_수')\n",
    "plt.title('Sales Trend')\n",
    "\n",
    "# 그래프 표시\n",
    "plt.show()\n",
    "\n"
   ]
  },
  {
   "cell_type": "code",
   "execution_count": 18,
   "id": "4f5b0f72",
   "metadata": {},
   "outputs": [
    {
     "data": {
      "text/plain": [
       "{'whiskers': [<matplotlib.lines.Line2D at 0x7fd4d2724e80>,\n",
       "  <matplotlib.lines.Line2D at 0x7fd4d2725120>],\n",
       " 'caps': [<matplotlib.lines.Line2D at 0x7fd4d27253c0>,\n",
       "  <matplotlib.lines.Line2D at 0x7fd4d2725660>],\n",
       " 'boxes': [<matplotlib.lines.Line2D at 0x7fd4d2724be0>],\n",
       " 'medians': [<matplotlib.lines.Line2D at 0x7fd4d2725900>],\n",
       " 'fliers': [<matplotlib.lines.Line2D at 0x7fd4d2725ba0>],\n",
       " 'means': []}"
      ]
     },
     "execution_count": 18,
     "metadata": {},
     "output_type": "execute_result"
    },
    {
     "data": {
      "text/plain": [
       "Text(0, 0.5, '프랜차이즈_점포_수')"
      ]
     },
     "execution_count": 18,
     "metadata": {},
     "output_type": "execute_result"
    },
    {
     "data": {
      "text/plain": [
       "Text(0.5, 1.0, '총매출액 하위 25% 프렌차이즈 수')"
      ]
     },
     "execution_count": 18,
     "metadata": {},
     "output_type": "execute_result"
    },
    {
     "data": {
      "image/png": "[encoded data removed]",
      "text/plain": [
       "<Figure size 640x480 with 1 Axes>"
      ]
     },
     "metadata": {},
     "output_type": "display_data"
    }
   ],
   "source": [
    "import matplotlib.pyplot as plt\n",
    "\n",
    "\n",
    "plt.boxplot(bottom_25['프랜차이즈_점포_수'])\n",
    "plt.ylabel('프랜차이즈_점포_수')\n",
    "plt.title('총매출액 하위 25% 프렌차이즈 수')\n",
    "plt.show()"
   ]
  },
  {
   "cell_type": "code",
   "execution_count": null,
   "id": "e7de2dfc",
   "metadata": {},
   "outputs": [],
   "source": []
  },
  {
   "cell_type": "code",
   "execution_count": null,
   "id": "b0982fdd",
   "metadata": {},
   "outputs": [],
   "source": []
  },
  {
   "cell_type": "code",
   "execution_count": null,
   "id": "e2def109",
   "metadata": {},
   "outputs": [],
   "source": []
  }
 ],
 "metadata": {
  "kernelspec": {
   "display_name": "Python 3 (ipykernel)",
   "language": "python",
   "name": "python3"
  },
  "language_info": {
   "codemirror_mode": {
    "name": "ipython",
    "version": 3
   },
   "file_extension": ".py",
   "mimetype": "text/x-python",
   "name": "python",
   "nbconvert_exporter": "python",
   "pygments_lexer": "ipython3",
   "version": "3.10.9"
  }
 },
 "nbformat": 4,
 "nbformat_minor": 5
}
