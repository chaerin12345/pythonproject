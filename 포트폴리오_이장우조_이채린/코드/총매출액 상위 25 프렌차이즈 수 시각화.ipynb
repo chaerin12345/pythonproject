{
 "cells": [
  {
   "cell_type": "code",
   "execution_count": 14,
   "id": "2b64720e",
   "metadata": {},
   "outputs": [],
   "source": [
    "# 필요 모듈 import\n",
    "import pandas as pd\n",
    "import numpy as np\n",
    "import seaborn as sns\n",
    "import matplotlib.pyplot as plt #그래프 패키지 모듈 등록\n",
    "\n",
    "%matplotlib inline "
   ]
  },
  {
   "cell_type": "code",
   "execution_count": 3,
   "id": "4fff2aea",
   "metadata": {},
   "outputs": [],
   "source": [
    "# 한 셀에서 여러 변수 출력코드\n",
    "from IPython.core.interactiveshell import InteractiveShell\n",
    "InteractiveShell.ast_node_interactivity=\"all\""
   ]
  },
  {
   "cell_type": "code",
   "execution_count": 4,
   "id": "ad1adc3c",
   "metadata": {},
   "outputs": [],
   "source": [
    "# 한글 문제\n",
    "# matplotlit의 기본 폰트에서 한글 지원되지 않기 때문에\n",
    "# matplotlib의 폰트 변경 필요\n",
    "import platform\n",
    "\n",
    "from matplotlib import font_manager, rc\n",
    "plt.rcParams['axes.unicode_minus'] = False\n",
    "\n",
    "if platform.system() == 'Darwin':  # 맥OS \n",
    "    rc('font', family='AppleGothic')\n",
    "elif platform.system() == 'Windows':  # 윈도우\n",
    "    path = \"c:/Windows/Fonts/malgun.ttf\"\n",
    "    font_name = font_manager.FontProperties(fname=path).get_name()\n",
    "    rc('font', family=font_name)\n",
    "else:\n",
    "    print('Unknown system...  sorry~~~')"
   ]
  },
  {
   "cell_type": "code",
   "execution_count": 5,
   "id": "fbaeac53",
   "metadata": {},
   "outputs": [],
   "source": [
    "df = pd.read_csv(\"/Users/crlee/pandas/서울시_골목상권_재범주.csv\",encoding='cp949',low_memory=False)"
   ]
  },
  {
   "cell_type": "markdown",
   "id": "3fc524dd",
   "metadata": {},
   "source": [
    "### 필요한 열만 추출"
   ]
  },
  {
   "cell_type": "code",
   "execution_count": 6,
   "id": "57fbb0df",
   "metadata": {},
   "outputs": [
    {
     "data": {
      "text/html": [
       "<div>\n",
       "<style scoped>\n",
       "    .dataframe tbody tr th:only-of-type {\n",
       "        vertical-align: middle;\n",
       "    }\n",
       "\n",
       "    .dataframe tbody tr th {\n",
       "        vertical-align: top;\n",
       "    }\n",
       "\n",
       "    .dataframe thead th {\n",
       "        text-align: right;\n",
       "    }\n",
       "</style>\n",
       "<table border=\"1\" class=\"dataframe\">\n",
       "  <thead>\n",
       "    <tr style=\"text-align: right;\">\n",
       "      <th></th>\n",
       "      <th>프랜차이즈_점포_수</th>\n",
       "      <th>시군구_명</th>\n",
       "      <th>상권_코드_명</th>\n",
       "      <th>상권별_매출액_평균</th>\n",
       "    </tr>\n",
       "  </thead>\n",
       "  <tbody>\n",
       "    <tr>\n",
       "      <th>0</th>\n",
       "      <td>15</td>\n",
       "      <td>강북구</td>\n",
       "      <td>4.19민주묘지역 2번</td>\n",
       "      <td>1.787499e+08</td>\n",
       "    </tr>\n",
       "    <tr>\n",
       "      <th>1</th>\n",
       "      <td>4</td>\n",
       "      <td>강북구</td>\n",
       "      <td>KT&amp;G 북부지사</td>\n",
       "      <td>1.489174e+08</td>\n",
       "    </tr>\n",
       "    <tr>\n",
       "      <th>2</th>\n",
       "      <td>13</td>\n",
       "      <td>강북구</td>\n",
       "      <td>가오리역 1번</td>\n",
       "      <td>1.736823e+08</td>\n",
       "    </tr>\n",
       "    <tr>\n",
       "      <th>3</th>\n",
       "      <td>6</td>\n",
       "      <td>강북구</td>\n",
       "      <td>가오리역 2번</td>\n",
       "      <td>1.330093e+08</td>\n",
       "    </tr>\n",
       "    <tr>\n",
       "      <th>4</th>\n",
       "      <td>9</td>\n",
       "      <td>강북구</td>\n",
       "      <td>강북구청</td>\n",
       "      <td>1.955185e+08</td>\n",
       "    </tr>\n",
       "    <tr>\n",
       "      <th>...</th>\n",
       "      <td>...</td>\n",
       "      <td>...</td>\n",
       "      <td>...</td>\n",
       "      <td>...</td>\n",
       "    </tr>\n",
       "    <tr>\n",
       "      <th>1082</th>\n",
       "      <td>2</td>\n",
       "      <td>서초구</td>\n",
       "      <td>청계산원터골</td>\n",
       "      <td>7.587535e+08</td>\n",
       "    </tr>\n",
       "    <tr>\n",
       "      <th>1083</th>\n",
       "      <td>0</td>\n",
       "      <td>서초구</td>\n",
       "      <td>청계산입구역 2번(내곡동주민센터)</td>\n",
       "      <td>5.359684e+08</td>\n",
       "    </tr>\n",
       "    <tr>\n",
       "      <th>1084</th>\n",
       "      <td>1</td>\n",
       "      <td>서초구</td>\n",
       "      <td>한국상담대학원대학교</td>\n",
       "      <td>6.713270e+08</td>\n",
       "    </tr>\n",
       "    <tr>\n",
       "      <th>1085</th>\n",
       "      <td>2</td>\n",
       "      <td>서초구</td>\n",
       "      <td>한전아트센터</td>\n",
       "      <td>6.967944e+07</td>\n",
       "    </tr>\n",
       "    <tr>\n",
       "      <th>1086</th>\n",
       "      <td>0</td>\n",
       "      <td>서초구</td>\n",
       "      <td>헌인가구단지</td>\n",
       "      <td>2.221381e+08</td>\n",
       "    </tr>\n",
       "  </tbody>\n",
       "</table>\n",
       "<p>1087 rows × 4 columns</p>\n",
       "</div>"
      ],
      "text/plain": [
       "      프랜차이즈_점포_수 시군구_명             상권_코드_명    상권별_매출액_평균\n",
       "0             15   강북구        4.19민주묘지역 2번  1.787499e+08\n",
       "1              4   강북구           KT&G 북부지사  1.489174e+08\n",
       "2             13   강북구             가오리역 1번  1.736823e+08\n",
       "3              6   강북구             가오리역 2번  1.330093e+08\n",
       "4              9   강북구                강북구청  1.955185e+08\n",
       "...          ...   ...                 ...           ...\n",
       "1082           2   서초구              청계산원터골  7.587535e+08\n",
       "1083           0   서초구  청계산입구역 2번(내곡동주민센터)  5.359684e+08\n",
       "1084           1   서초구          한국상담대학원대학교  6.713270e+08\n",
       "1085           2   서초구              한전아트센터  6.967944e+07\n",
       "1086           0   서초구              헌인가구단지  2.221381e+08\n",
       "\n",
       "[1087 rows x 4 columns]"
      ]
     },
     "execution_count": 6,
     "metadata": {},
     "output_type": "execute_result"
    }
   ],
   "source": [
    "select_col = [ '프랜차이즈_점포_수','시군구_명','상권_코드_명','상권별_매출액_평균']\n",
    "df2 = df[select_col]\n",
    "df2"
   ]
  },
  {
   "cell_type": "markdown",
   "id": "0b6f16c6",
   "metadata": {},
   "source": [
    "### 상권별_매출액_평균으로 내림차순"
   ]
  },
  {
   "cell_type": "code",
   "execution_count": 7,
   "id": "2b9e1cb5",
   "metadata": {},
   "outputs": [
    {
     "data": {
      "text/html": [
       "<div>\n",
       "<style scoped>\n",
       "    .dataframe tbody tr th:only-of-type {\n",
       "        vertical-align: middle;\n",
       "    }\n",
       "\n",
       "    .dataframe tbody tr th {\n",
       "        vertical-align: top;\n",
       "    }\n",
       "\n",
       "    .dataframe thead th {\n",
       "        text-align: right;\n",
       "    }\n",
       "</style>\n",
       "<table border=\"1\" class=\"dataframe\">\n",
       "  <thead>\n",
       "    <tr style=\"text-align: right;\">\n",
       "      <th></th>\n",
       "      <th>프랜차이즈_점포_수</th>\n",
       "      <th>시군구_명</th>\n",
       "      <th>상권_코드_명</th>\n",
       "      <th>상권별_매출액_평균</th>\n",
       "    </tr>\n",
       "  </thead>\n",
       "  <tbody>\n",
       "    <tr>\n",
       "      <th>486</th>\n",
       "      <td>0</td>\n",
       "      <td>용산구</td>\n",
       "      <td>남정초등학교</td>\n",
       "      <td>4.088895e+09</td>\n",
       "    </tr>\n",
       "    <tr>\n",
       "      <th>475</th>\n",
       "      <td>4</td>\n",
       "      <td>영등포구</td>\n",
       "      <td>영등포시장역 3번</td>\n",
       "      <td>2.648102e+09</td>\n",
       "    </tr>\n",
       "    <tr>\n",
       "      <th>976</th>\n",
       "      <td>42</td>\n",
       "      <td>성동구</td>\n",
       "      <td>성수초등학교</td>\n",
       "      <td>1.761761e+09</td>\n",
       "    </tr>\n",
       "    <tr>\n",
       "      <th>975</th>\n",
       "      <td>20</td>\n",
       "      <td>성동구</td>\n",
       "      <td>성수동카페거리</td>\n",
       "      <td>1.704766e+09</td>\n",
       "    </tr>\n",
       "    <tr>\n",
       "      <th>844</th>\n",
       "      <td>2</td>\n",
       "      <td>강남구</td>\n",
       "      <td>삼성중앙역 5번</td>\n",
       "      <td>1.663697e+09</td>\n",
       "    </tr>\n",
       "    <tr>\n",
       "      <th>...</th>\n",
       "      <td>...</td>\n",
       "      <td>...</td>\n",
       "      <td>...</td>\n",
       "      <td>...</td>\n",
       "    </tr>\n",
       "    <tr>\n",
       "      <th>311</th>\n",
       "      <td>3</td>\n",
       "      <td>강서구</td>\n",
       "      <td>백석중학교</td>\n",
       "      <td>1.365018e+07</td>\n",
       "    </tr>\n",
       "    <tr>\n",
       "      <th>778</th>\n",
       "      <td>1</td>\n",
       "      <td>은평구</td>\n",
       "      <td>덕산중학교</td>\n",
       "      <td>1.347007e+07</td>\n",
       "    </tr>\n",
       "    <tr>\n",
       "      <th>791</th>\n",
       "      <td>1</td>\n",
       "      <td>은평구</td>\n",
       "      <td>수색역 1번</td>\n",
       "      <td>9.737607e+06</td>\n",
       "    </tr>\n",
       "    <tr>\n",
       "      <th>386</th>\n",
       "      <td>3</td>\n",
       "      <td>관악구</td>\n",
       "      <td>청림동주민센터(상도중학교)</td>\n",
       "      <td>6.867693e+06</td>\n",
       "    </tr>\n",
       "    <tr>\n",
       "      <th>264</th>\n",
       "      <td>4</td>\n",
       "      <td>중랑구</td>\n",
       "      <td>세화어린이공원</td>\n",
       "      <td>3.875653e+06</td>\n",
       "    </tr>\n",
       "  </tbody>\n",
       "</table>\n",
       "<p>1087 rows × 4 columns</p>\n",
       "</div>"
      ],
      "text/plain": [
       "     프랜차이즈_점포_수 시군구_명         상권_코드_명    상권별_매출액_평균\n",
       "486           0   용산구          남정초등학교  4.088895e+09\n",
       "475           4  영등포구       영등포시장역 3번  2.648102e+09\n",
       "976          42   성동구          성수초등학교  1.761761e+09\n",
       "975          20   성동구         성수동카페거리  1.704766e+09\n",
       "844           2   강남구        삼성중앙역 5번  1.663697e+09\n",
       "..          ...   ...             ...           ...\n",
       "311           3   강서구           백석중학교  1.365018e+07\n",
       "778           1   은평구           덕산중학교  1.347007e+07\n",
       "791           1   은평구          수색역 1번  9.737607e+06\n",
       "386           3   관악구  청림동주민센터(상도중학교)  6.867693e+06\n",
       "264           4   중랑구         세화어린이공원  3.875653e+06\n",
       "\n",
       "[1087 rows x 4 columns]"
      ]
     },
     "execution_count": 7,
     "metadata": {},
     "output_type": "execute_result"
    }
   ],
   "source": [
    "df2 = df2.sort_values('상권별_매출액_평균', ascending=False)\n",
    "df2"
   ]
  },
  {
   "cell_type": "markdown",
   "id": "a14d5751",
   "metadata": {},
   "source": [
    "### 전체 프렌차이즈 점포 수 평균"
   ]
  },
  {
   "cell_type": "code",
   "execution_count": 8,
   "id": "ea95468e",
   "metadata": {},
   "outputs": [
    {
     "data": {
      "text/plain": [
       "10.78748850045998"
      ]
     },
     "execution_count": 8,
     "metadata": {},
     "output_type": "execute_result"
    }
   ],
   "source": [
    "mean_all = df2['프랜차이즈_점포_수'].mean()\n",
    "mean_all"
   ]
  },
  {
   "cell_type": "markdown",
   "id": "20be8851",
   "metadata": {},
   "source": [
    "### 전체 산점도"
   ]
  },
  {
   "cell_type": "code",
   "execution_count": 41,
   "id": "e17ca232",
   "metadata": {},
   "outputs": [
    {
     "data": {
      "text/plain": [
       "<matplotlib.collections.PathCollection at 0x7ff5efedb430>"
      ]
     },
     "execution_count": 41,
     "metadata": {},
     "output_type": "execute_result"
    },
    {
     "data": {
      "text/plain": [
       "Text(0.5, 0, '상권별_매출액_평균')"
      ]
     },
     "execution_count": 41,
     "metadata": {},
     "output_type": "execute_result"
    },
    {
     "data": {
      "text/plain": [
       "Text(0, 0.5, '프랜차이즈_점포_수')"
      ]
     },
     "execution_count": 41,
     "metadata": {},
     "output_type": "execute_result"
    },
    {
     "data": {
      "text/plain": [
       "Text(0.5, 1.0, '총매출액 프렌차이즈 수')"
      ]
     },
     "execution_count": 41,
     "metadata": {},
     "output_type": "execute_result"
    },
    {
     "data": {
      "image/png": "[encoded data removed]",
      "text/plain": [
       "<Figure size 640x480 with 1 Axes>"
      ]
     },
     "metadata": {},
     "output_type": "display_data"
    }
   ],
   "source": [
    "plt.scatter(df2['상권별_매출액_평균'], df2['프랜차이즈_점포_수']) # 산점도 그래프\n",
    "#plt.plot(df2['상권_코드_명'], df2['프랜차이즈_점포_수']) # 선그래프\n",
    "\n",
    "# 그래프 레이블 및 제목 설정\n",
    "plt.xlabel('상권별_매출액_평균')\n",
    "plt.ylabel('프랜차이즈_점포_수')\n",
    "plt.title('총매출액 프렌차이즈 수')\n",
    "\n",
    "# 그래프 표시\n",
    "plt.show()"
   ]
  },
  {
   "cell_type": "markdown",
   "id": "b4127625",
   "metadata": {},
   "source": [
    "### 전체 선형식"
   ]
  },
  {
   "cell_type": "code",
   "execution_count": 40,
   "id": "7bd24651",
   "metadata": {},
   "outputs": [
    {
     "data": {
      "text/plain": [
       "[<matplotlib.lines.Line2D at 0x7ff5efe51ae0>]"
      ]
     },
     "execution_count": 40,
     "metadata": {},
     "output_type": "execute_result"
    },
    {
     "data": {
      "text/plain": [
       "<matplotlib.collections.PathCollection at 0x7ff5eafdcb80>"
      ]
     },
     "execution_count": 40,
     "metadata": {},
     "output_type": "execute_result"
    },
    {
     "data": {
      "text/plain": [
       "Text(0.5, 0, '총매출액')"
      ]
     },
     "execution_count": 40,
     "metadata": {},
     "output_type": "execute_result"
    },
    {
     "data": {
      "text/plain": [
       "Text(0, 0.5, '프렌차이즈 수')"
      ]
     },
     "execution_count": 40,
     "metadata": {},
     "output_type": "execute_result"
    },
    {
     "data": {
      "text/plain": [
       "Text(0.5, 1.0, 'Linear Equation')"
      ]
     },
     "execution_count": 40,
     "metadata": {},
     "output_type": "execute_result"
    },
    {
     "data": {
      "text/plain": [
       "<matplotlib.legend.Legend at 0x7ff5efb99240>"
      ]
     },
     "execution_count": 40,
     "metadata": {},
     "output_type": "execute_result"
    },
    {
     "data": {
      "image/png": "[encoded data removed]",
      "text/plain": [
       "<Figure size 640x480 with 1 Axes>"
      ]
     },
     "metadata": {},
     "output_type": "display_data"
    }
   ],
   "source": [
    "import matplotlib.pyplot as plt\n",
    "import numpy as np\n",
    "\n",
    "# 데이터프레임에서 x 열과 y 열을 선택합니다.\n",
    "x = df2['상권별_매출액_평균']\n",
    "y = df2['프랜차이즈_점포_수']\n",
    "\n",
    "# 선형식을 구하기 위해 polyfit 함수를 사용하여 최소제곱법을 적용합니다.\n",
    "coefficients = np.polyfit(x, y, deg=1)\n",
    "slope = coefficients[0]\n",
    "intercept = coefficients[1]\n",
    "\n",
    "# x 값 범위를 정의합니다.\n",
    "x_range = np.linspace(x.min(), x.max(), 100)\n",
    "\n",
    "# 선형식을 계산합니다.\n",
    "y_range = slope * x_range + intercept\n",
    "\n",
    "# 선형식을 그래프로 그립니다.\n",
    "plt.plot(x_range, y_range, color='blue', label='Linear Equation')\n",
    "\n",
    "# 산점도를 그래프로 그립니다.\n",
    "plt.scatter(x, y, color='red', label='Data Points')\n",
    "\n",
    "# 축 레이블과 제목을 설정합니다.\n",
    "plt.xlabel('총매출액')\n",
    "plt.ylabel('프렌차이즈 수')\n",
    "plt.title('Linear Equation')\n",
    "\n",
    "# 그래프에 그리드를 추가합니다.\n",
    "plt.grid(True)\n",
    "\n",
    "# 범례(legend)를 표시합니다.\n",
    "plt.legend()\n",
    "\n",
    "# 그래프를 표시합니다.\n",
    "plt.show()"
   ]
  },
  {
   "cell_type": "markdown",
   "id": "57317c5c",
   "metadata": {},
   "source": [
    "### 상위 25% 추출"
   ]
  },
  {
   "cell_type": "code",
   "execution_count": 9,
   "id": "83fb32cc",
   "metadata": {},
   "outputs": [
    {
     "data": {
      "text/html": [
       "<div>\n",
       "<style scoped>\n",
       "    .dataframe tbody tr th:only-of-type {\n",
       "        vertical-align: middle;\n",
       "    }\n",
       "\n",
       "    .dataframe tbody tr th {\n",
       "        vertical-align: top;\n",
       "    }\n",
       "\n",
       "    .dataframe thead th {\n",
       "        text-align: right;\n",
       "    }\n",
       "</style>\n",
       "<table border=\"1\" class=\"dataframe\">\n",
       "  <thead>\n",
       "    <tr style=\"text-align: right;\">\n",
       "      <th></th>\n",
       "      <th>프랜차이즈_점포_수</th>\n",
       "      <th>시군구_명</th>\n",
       "      <th>상권_코드_명</th>\n",
       "      <th>상권별_매출액_평균</th>\n",
       "    </tr>\n",
       "  </thead>\n",
       "  <tbody>\n",
       "    <tr>\n",
       "      <th>486</th>\n",
       "      <td>0</td>\n",
       "      <td>용산구</td>\n",
       "      <td>남정초등학교</td>\n",
       "      <td>4.088895e+09</td>\n",
       "    </tr>\n",
       "    <tr>\n",
       "      <th>475</th>\n",
       "      <td>4</td>\n",
       "      <td>영등포구</td>\n",
       "      <td>영등포시장역 3번</td>\n",
       "      <td>2.648102e+09</td>\n",
       "    </tr>\n",
       "    <tr>\n",
       "      <th>976</th>\n",
       "      <td>42</td>\n",
       "      <td>성동구</td>\n",
       "      <td>성수초등학교</td>\n",
       "      <td>1.761761e+09</td>\n",
       "    </tr>\n",
       "    <tr>\n",
       "      <th>975</th>\n",
       "      <td>20</td>\n",
       "      <td>성동구</td>\n",
       "      <td>성수동카페거리</td>\n",
       "      <td>1.704766e+09</td>\n",
       "    </tr>\n",
       "    <tr>\n",
       "      <th>844</th>\n",
       "      <td>2</td>\n",
       "      <td>강남구</td>\n",
       "      <td>삼성중앙역 5번</td>\n",
       "      <td>1.663697e+09</td>\n",
       "    </tr>\n",
       "    <tr>\n",
       "      <th>...</th>\n",
       "      <td>...</td>\n",
       "      <td>...</td>\n",
       "      <td>...</td>\n",
       "      <td>...</td>\n",
       "    </tr>\n",
       "    <tr>\n",
       "      <th>406</th>\n",
       "      <td>13</td>\n",
       "      <td>금천구</td>\n",
       "      <td>독산동정훈단지</td>\n",
       "      <td>2.914204e+08</td>\n",
       "    </tr>\n",
       "    <tr>\n",
       "      <th>977</th>\n",
       "      <td>8</td>\n",
       "      <td>성동구</td>\n",
       "      <td>성원어린이공원</td>\n",
       "      <td>2.911916e+08</td>\n",
       "    </tr>\n",
       "    <tr>\n",
       "      <th>118</th>\n",
       "      <td>39</td>\n",
       "      <td>구로구</td>\n",
       "      <td>오류2동버들시장</td>\n",
       "      <td>2.903259e+08</td>\n",
       "    </tr>\n",
       "    <tr>\n",
       "      <th>98</th>\n",
       "      <td>1</td>\n",
       "      <td>구로구</td>\n",
       "      <td>고척중학교</td>\n",
       "      <td>2.901136e+08</td>\n",
       "    </tr>\n",
       "    <tr>\n",
       "      <th>382</th>\n",
       "      <td>25</td>\n",
       "      <td>관악구</td>\n",
       "      <td>은천초등학교(은천교앞)</td>\n",
       "      <td>2.900235e+08</td>\n",
       "    </tr>\n",
       "  </tbody>\n",
       "</table>\n",
       "<p>272 rows × 4 columns</p>\n",
       "</div>"
      ],
      "text/plain": [
       "     프랜차이즈_점포_수 시군구_명       상권_코드_명    상권별_매출액_평균\n",
       "486           0   용산구        남정초등학교  4.088895e+09\n",
       "475           4  영등포구     영등포시장역 3번  2.648102e+09\n",
       "976          42   성동구        성수초등학교  1.761761e+09\n",
       "975          20   성동구       성수동카페거리  1.704766e+09\n",
       "844           2   강남구      삼성중앙역 5번  1.663697e+09\n",
       "..          ...   ...           ...           ...\n",
       "406          13   금천구       독산동정훈단지  2.914204e+08\n",
       "977           8   성동구       성원어린이공원  2.911916e+08\n",
       "118          39   구로구      오류2동버들시장  2.903259e+08\n",
       "98            1   구로구         고척중학교  2.901136e+08\n",
       "382          25   관악구  은천초등학교(은천교앞)  2.900235e+08\n",
       "\n",
       "[272 rows x 4 columns]"
      ]
     },
     "execution_count": 9,
     "metadata": {},
     "output_type": "execute_result"
    }
   ],
   "source": [
    "# 상권별_매출액_평균을 기준으로 상위 25% 추출\n",
    "top25 = df2['상권별_매출액_평균'].quantile(0.75)  \n",
    "top_25 = df2[df2['상권별_매출액_평균'] >= top25] \n",
    "top_25"
   ]
  },
  {
   "cell_type": "markdown",
   "id": "b6b241cb",
   "metadata": {},
   "source": [
    "### 상위 25% 프렌차이즈 점포 수 평균"
   ]
  },
  {
   "cell_type": "code",
   "execution_count": 10,
   "id": "f5febf0c",
   "metadata": {},
   "outputs": [
    {
     "data": {
      "text/plain": [
       "17.78676470588235"
      ]
     },
     "execution_count": 10,
     "metadata": {},
     "output_type": "execute_result"
    }
   ],
   "source": [
    "mean_25 = top_25['프랜차이즈_점포_수'].mean()\n",
    "mean_25"
   ]
  },
  {
   "cell_type": "code",
   "execution_count": 27,
   "id": "e8e74939",
   "metadata": {},
   "outputs": [
    {
     "data": {
      "text/plain": [
       "<matplotlib.collections.PathCollection at 0x7ff5e57dbd30>"
      ]
     },
     "execution_count": 27,
     "metadata": {},
     "output_type": "execute_result"
    },
    {
     "data": {
      "text/plain": [
       "Text(0.5, 0, '상권_코드_명')"
      ]
     },
     "execution_count": 27,
     "metadata": {},
     "output_type": "execute_result"
    },
    {
     "data": {
      "text/plain": [
       "Text(0, 0.5, '프랜차이즈_점포_수')"
      ]
     },
     "execution_count": 27,
     "metadata": {},
     "output_type": "execute_result"
    },
    {
     "data": {
      "text/plain": [
       "Text(0.5, 1.0, '총매출액 상위 25% 프렌차이즈 수')"
      ]
     },
     "execution_count": 27,
     "metadata": {},
     "output_type": "execute_result"
    },
    {
     "data": {
      "image/png": "[encoded data removed]",
      "text/plain": [
       "<Figure size 640x480 with 1 Axes>"
      ]
     },
     "metadata": {},
     "output_type": "display_data"
    }
   ],
   "source": [
    "plt.scatter(top_25['상권_코드_명'], top_25['프랜차이즈_점포_수']) # 산점도 그래프\n",
    "# plt.plot(top_25['상권_코드_명'], top_25['프랜차이즈_점포_수']) # 선그래프\n",
    "\n",
    "# 그래프 레이블 및 제목 설정\n",
    "plt.xlabel('상권_코드_명')\n",
    "plt.ylabel('프랜차이즈_점포_수')\n",
    "plt.title('총매출액 상위 25% 프렌차이즈 수')\n",
    "\n",
    "# 그래프 표시\n",
    "plt.show()\n",
    "\n",
    "\n"
   ]
  },
  {
   "cell_type": "code",
   "execution_count": 33,
   "id": "c096712b",
   "metadata": {},
   "outputs": [
    {
     "data": {
      "text/plain": [
       "{'whiskers': [<matplotlib.lines.Line2D at 0x7ff5e4d14a60>,\n",
       "  <matplotlib.lines.Line2D at 0x7ff5e4d15000>],\n",
       " 'caps': [<matplotlib.lines.Line2D at 0x7ff5e4d14eb0>,\n",
       "  <matplotlib.lines.Line2D at 0x7ff5e4d15060>],\n",
       " 'boxes': [<matplotlib.lines.Line2D at 0x7ff5e4d159c0>],\n",
       " 'medians': [<matplotlib.lines.Line2D at 0x7ff5e4d15990>],\n",
       " 'fliers': [<matplotlib.lines.Line2D at 0x7ff5e4d14370>],\n",
       " 'means': []}"
      ]
     },
     "execution_count": 33,
     "metadata": {},
     "output_type": "execute_result"
    },
    {
     "data": {
      "text/plain": [
       "Text(0, 0.5, '프랜차이즈_점포_수')"
      ]
     },
     "execution_count": 33,
     "metadata": {},
     "output_type": "execute_result"
    },
    {
     "data": {
      "text/plain": [
       "Text(0.5, 1.0, '총매출액 상위 25% 프렌차이즈 수')"
      ]
     },
     "execution_count": 33,
     "metadata": {},
     "output_type": "execute_result"
    },
    {
     "data": {
      "image/png": "[encoded data removed]",
      "text/plain": [
       "<Figure size 640x480 with 1 Axes>"
      ]
     },
     "metadata": {},
     "output_type": "display_data"
    }
   ],
   "source": [
    "import matplotlib.pyplot as plt\n",
    "\n",
    "plt.boxplot(top_25['프랜차이즈_점포_수'])\n",
    "plt.ylabel('프랜차이즈_점포_수')\n",
    "plt.title('총매출액 상위 25% 프렌차이즈 수')\n",
    "plt.show()"
   ]
  },
  {
   "cell_type": "code",
   "execution_count": null,
   "id": "1cfdea86",
   "metadata": {},
   "outputs": [],
   "source": []
  },
  {
   "cell_type": "markdown",
   "id": "0c356cdc",
   "metadata": {},
   "source": [
    "### 전체 박스플롯"
   ]
  },
  {
   "cell_type": "code",
   "execution_count": 32,
   "id": "799df7bc",
   "metadata": {},
   "outputs": [
    {
     "data": {
      "text/plain": [
       "{'whiskers': [<matplotlib.lines.Line2D at 0x7ff5e5e0fd00>,\n",
       "  <matplotlib.lines.Line2D at 0x7ff5e5e0c0d0>],\n",
       " 'caps': [<matplotlib.lines.Line2D at 0x7ff5e5ec8220>,\n",
       "  <matplotlib.lines.Line2D at 0x7ff5e5ec84c0>],\n",
       " 'boxes': [<matplotlib.lines.Line2D at 0x7ff5e5e0fa60>],\n",
       " 'medians': [<matplotlib.lines.Line2D at 0x7ff5e5ec8760>],\n",
       " 'fliers': [<matplotlib.lines.Line2D at 0x7ff5e5ec8a00>],\n",
       " 'means': []}"
      ]
     },
     "execution_count": 32,
     "metadata": {},
     "output_type": "execute_result"
    },
    {
     "data": {
      "text/plain": [
       "Text(0, 0.5, '프랜차이즈_점포_수')"
      ]
     },
     "execution_count": 32,
     "metadata": {},
     "output_type": "execute_result"
    },
    {
     "data": {
      "text/plain": [
       "Text(0.5, 1.0, '서울시 프렌차이즈 수')"
      ]
     },
     "execution_count": 32,
     "metadata": {},
     "output_type": "execute_result"
    },
    {
     "data": {
      "image/png": "[encoded data removed]",
      "text/plain": [
       "<Figure size 640x480 with 1 Axes>"
      ]
     },
     "metadata": {},
     "output_type": "display_data"
    }
   ],
   "source": [
    "import matplotlib.pyplot as plt\n",
    "\n",
    "plt.boxplot(df2['프랜차이즈_점포_수'])\n",
    "plt.ylabel('프랜차이즈_점포_수')\n",
    "plt.title('서울시 프렌차이즈 수')\n",
    "plt.show()"
   ]
  },
  {
   "cell_type": "code",
   "execution_count": null,
   "id": "20fcf75e",
   "metadata": {},
   "outputs": [],
   "source": []
  }
 ],
 "metadata": {
  "kernelspec": {
   "display_name": "Python 3 (ipykernel)",
   "language": "python",
   "name": "python3"
  },
  "language_info": {
   "codemirror_mode": {
    "name": "ipython",
    "version": 3
   },
   "file_extension": ".py",
   "mimetype": "text/x-python",
   "name": "python",
   "nbconvert_exporter": "python",
   "pygments_lexer": "ipython3",
   "version": "3.10.9"
  }
 },
 "nbformat": 4,
 "nbformat_minor": 5
}
