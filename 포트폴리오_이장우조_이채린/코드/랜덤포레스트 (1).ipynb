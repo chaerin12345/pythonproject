{
 "cells": [
  {
   "cell_type": "code",
   "execution_count": 15,
   "id": "f5d83a3c",
   "metadata": {},
   "outputs": [],
   "source": [
    "import pandas as pd\n",
    "import numpy as np\n",
    "from IPython.core.interactiveshell import InteractiveShell\n",
    "InteractiveShell.ast_node_interactivity=\"all\"\n",
    "import matplotlib.pyplot as plt\n",
    "%matplotlib inline\n",
    "# 매직 명령 : 주피터 노트북 사용 시\n",
    "# 노트북 내부에 그림을 표시하도록 지정하는 명령어\n",
    "\n",
    "# 한글 문제\n",
    "# matplotlit의 기본 폰트에서 한글 지원되지 않기 때문에\n",
    "# matplotlib의 폰트 변경 필요\n",
    "import platform\n",
    "\n",
    "from matplotlib import font_manager, rc\n",
    "plt.rcParams['axes.unicode_minus'] = False\n",
    "\n",
    "if platform.system() == 'Darwin':  # 맥OS \n",
    "    rc('font', family='AppleGothic')\n",
    "elif platform.system() == 'Windows':  # 윈도우\n",
    "    path = \"c:/Windows/Fonts/malgun.ttf\"\n",
    "    font_name = font_manager.FontProperties(fname=path).get_name()\n",
    "    rc('font', family=font_name)\n",
    "else:\n",
    "    print('Unknown system...  sorry~~~')\n",
    "\n",
    "import warnings\n",
    "warnings.filterwarnings(action='ignore')\n",
    "\n",
    "from matplotlib import font_manager, rc\n",
    "plt.rcParams['axes.unicode_minus'] = False"
   ]
  },
  {
   "cell_type": "code",
   "execution_count": 40,
   "id": "d9e00a4b",
   "metadata": {},
   "outputs": [],
   "source": [
    "from sklearn.ensemble import RandomForestRegressor\n",
    "from sklearn.model_selection import cross_val_score\n",
    "import pandas as pd\n",
    "import numpy as np\n",
    "from sklearn.model_selection import GridSearchCV\n",
    "from sklearn.model_selection import train_test_split\n",
    "from sklearn.metrics import mean_squared_error\n",
    "import math\n",
    "from sklearn import datasets"
   ]
  },
  {
   "cell_type": "code",
   "execution_count": 41,
   "id": "b285f6b2",
   "metadata": {},
   "outputs": [],
   "source": [
    "df =pd.read_csv(\"/Users/crlee/pandas/서울시_골목상권_스케일링.csv\", thousands= ',', encoding='cp949')"
   ]
  },
  {
   "cell_type": "code",
   "execution_count": 44,
   "id": "682408b8",
   "metadata": {},
   "outputs": [
    {
     "data": {
      "text/html": [
       "<div>\n",
       "<style scoped>\n",
       "    .dataframe tbody tr th:only-of-type {\n",
       "        vertical-align: middle;\n",
       "    }\n",
       "\n",
       "    .dataframe tbody tr th {\n",
       "        vertical-align: top;\n",
       "    }\n",
       "\n",
       "    .dataframe thead th {\n",
       "        text-align: right;\n",
       "    }\n",
       "</style>\n",
       "<table border=\"1\" class=\"dataframe\">\n",
       "  <thead>\n",
       "    <tr style=\"text-align: right;\">\n",
       "      <th></th>\n",
       "      <th>상권별_매출액_평균</th>\n",
       "      <th>점포_수</th>\n",
       "      <th>식료품_지출_총금액</th>\n",
       "      <th>교통_지출_총금액</th>\n",
       "      <th>시간대_아침점심_생활인구_수</th>\n",
       "      <th>시간대_오후저녁_생활인구_수</th>\n",
       "      <th>시간대_밤새벽_생활인구_수</th>\n",
       "      <th>상권별_매출건수_평균</th>\n",
       "      <th>프랜차이즈_점포_수</th>\n",
       "      <th>개업_점포_수</th>\n",
       "      <th>폐업_점포_수</th>\n",
       "    </tr>\n",
       "  </thead>\n",
       "  <tbody>\n",
       "    <tr>\n",
       "      <th>0</th>\n",
       "      <td>-0.042609</td>\n",
       "      <td>-0.324363</td>\n",
       "      <td>-0.180160</td>\n",
       "      <td>-0.204429</td>\n",
       "      <td>-0.180923</td>\n",
       "      <td>-0.091914</td>\n",
       "      <td>-0.185341</td>\n",
       "      <td>0.156083</td>\n",
       "      <td>0.740132</td>\n",
       "      <td>-0.113868</td>\n",
       "      <td>-0.522115</td>\n",
       "    </tr>\n",
       "    <tr>\n",
       "      <th>1</th>\n",
       "      <td>-0.282165</td>\n",
       "      <td>-1.186330</td>\n",
       "      <td>-0.382371</td>\n",
       "      <td>-0.653202</td>\n",
       "      <td>-0.933633</td>\n",
       "      <td>-0.738919</td>\n",
       "      <td>-1.185251</td>\n",
       "      <td>0.487055</td>\n",
       "      <td>-0.541101</td>\n",
       "      <td>-1.115043</td>\n",
       "      <td>-1.469039</td>\n",
       "    </tr>\n",
       "    <tr>\n",
       "      <th>2</th>\n",
       "      <td>-0.080340</td>\n",
       "      <td>0.240921</td>\n",
       "      <td>-0.246836</td>\n",
       "      <td>-0.241533</td>\n",
       "      <td>0.522230</td>\n",
       "      <td>0.728681</td>\n",
       "      <td>0.497718</td>\n",
       "      <td>0.355192</td>\n",
       "      <td>0.593045</td>\n",
       "      <td>0.587447</td>\n",
       "      <td>0.424809</td>\n",
       "    </tr>\n",
       "    <tr>\n",
       "      <th>3</th>\n",
       "      <td>-0.430378</td>\n",
       "      <td>-0.324363</td>\n",
       "      <td>0.237345</td>\n",
       "      <td>0.246144</td>\n",
       "      <td>-0.029849</td>\n",
       "      <td>-0.009234</td>\n",
       "      <td>0.115979</td>\n",
       "      <td>-0.256888</td>\n",
       "      <td>-0.170471</td>\n",
       "      <td>-0.228989</td>\n",
       "      <td>0.031800</td>\n",
       "    </tr>\n",
       "    <tr>\n",
       "      <th>4</th>\n",
       "      <td>0.075029</td>\n",
       "      <td>0.451441</td>\n",
       "      <td>0.042486</td>\n",
       "      <td>-0.072796</td>\n",
       "      <td>0.844757</td>\n",
       "      <td>0.985235</td>\n",
       "      <td>0.756472</td>\n",
       "      <td>0.085594</td>\n",
       "      <td>0.222414</td>\n",
       "      <td>0.696803</td>\n",
       "      <td>0.729650</td>\n",
       "    </tr>\n",
       "    <tr>\n",
       "      <th>...</th>\n",
       "      <td>...</td>\n",
       "      <td>...</td>\n",
       "      <td>...</td>\n",
       "      <td>...</td>\n",
       "      <td>...</td>\n",
       "      <td>...</td>\n",
       "      <td>...</td>\n",
       "      <td>...</td>\n",
       "      <td>...</td>\n",
       "      <td>...</td>\n",
       "      <td>...</td>\n",
       "    </tr>\n",
       "    <tr>\n",
       "      <th>1082</th>\n",
       "      <td>1.854051</td>\n",
       "      <td>-1.155195</td>\n",
       "      <td>-1.121434</td>\n",
       "      <td>-1.132988</td>\n",
       "      <td>-8.133096</td>\n",
       "      <td>-7.987989</td>\n",
       "      <td>-7.412568</td>\n",
       "      <td>0.609936</td>\n",
       "      <td>-1.103786</td>\n",
       "      <td>-1.115043</td>\n",
       "      <td>-0.522115</td>\n",
       "    </tr>\n",
       "    <tr>\n",
       "      <th>1083</th>\n",
       "      <td>1.398018</td>\n",
       "      <td>-1.186330</td>\n",
       "      <td>-0.466656</td>\n",
       "      <td>-0.370682</td>\n",
       "      <td>-3.314819</td>\n",
       "      <td>-3.229080</td>\n",
       "      <td>-3.997228</td>\n",
       "      <td>1.071651</td>\n",
       "      <td>-2.313929</td>\n",
       "      <td>-0.672016</td>\n",
       "      <td>-0.522115</td>\n",
       "    </tr>\n",
       "    <tr>\n",
       "      <th>1084</th>\n",
       "      <td>1.693443</td>\n",
       "      <td>-1.788157</td>\n",
       "      <td>-0.794214</td>\n",
       "      <td>-0.643076</td>\n",
       "      <td>-1.361682</td>\n",
       "      <td>-1.558615</td>\n",
       "      <td>-1.120688</td>\n",
       "      <td>-0.099126</td>\n",
       "      <td>-1.550414</td>\n",
       "      <td>-1.115043</td>\n",
       "      <td>-1.469039</td>\n",
       "    </tr>\n",
       "    <tr>\n",
       "      <th>1085</th>\n",
       "      <td>-1.278567</td>\n",
       "      <td>-0.743138</td>\n",
       "      <td>-0.474913</td>\n",
       "      <td>-0.341473</td>\n",
       "      <td>0.276917</td>\n",
       "      <td>0.258693</td>\n",
       "      <td>0.110911</td>\n",
       "      <td>-0.729702</td>\n",
       "      <td>-1.103786</td>\n",
       "      <td>-0.228989</td>\n",
       "      <td>-0.522115</td>\n",
       "    </tr>\n",
       "    <tr>\n",
       "      <th>1086</th>\n",
       "      <td>0.242491</td>\n",
       "      <td>-1.155195</td>\n",
       "      <td>-1.602253</td>\n",
       "      <td>-1.627941</td>\n",
       "      <td>-6.711600</td>\n",
       "      <td>-7.987989</td>\n",
       "      <td>-7.412568</td>\n",
       "      <td>-3.397771</td>\n",
       "      <td>-2.313929</td>\n",
       "      <td>-1.872403</td>\n",
       "      <td>-0.522115</td>\n",
       "    </tr>\n",
       "  </tbody>\n",
       "</table>\n",
       "<p>1087 rows × 11 columns</p>\n",
       "</div>"
      ],
      "text/plain": [
       "      상권별_매출액_평균      점포_수  식료품_지출_총금액  교통_지출_총금액  시간대_아침점심_생활인구_수  \\\n",
       "0      -0.042609 -0.324363   -0.180160  -0.204429        -0.180923   \n",
       "1      -0.282165 -1.186330   -0.382371  -0.653202        -0.933633   \n",
       "2      -0.080340  0.240921   -0.246836  -0.241533         0.522230   \n",
       "3      -0.430378 -0.324363    0.237345   0.246144        -0.029849   \n",
       "4       0.075029  0.451441    0.042486  -0.072796         0.844757   \n",
       "...          ...       ...         ...        ...              ...   \n",
       "1082    1.854051 -1.155195   -1.121434  -1.132988        -8.133096   \n",
       "1083    1.398018 -1.186330   -0.466656  -0.370682        -3.314819   \n",
       "1084    1.693443 -1.788157   -0.794214  -0.643076        -1.361682   \n",
       "1085   -1.278567 -0.743138   -0.474913  -0.341473         0.276917   \n",
       "1086    0.242491 -1.155195   -1.602253  -1.627941        -6.711600   \n",
       "\n",
       "      시간대_오후저녁_생활인구_수  시간대_밤새벽_생활인구_수  상권별_매출건수_평균  프랜차이즈_점포_수   개업_점포_수  \\\n",
       "0           -0.091914       -0.185341     0.156083    0.740132 -0.113868   \n",
       "1           -0.738919       -1.185251     0.487055   -0.541101 -1.115043   \n",
       "2            0.728681        0.497718     0.355192    0.593045  0.587447   \n",
       "3           -0.009234        0.115979    -0.256888   -0.170471 -0.228989   \n",
       "4            0.985235        0.756472     0.085594    0.222414  0.696803   \n",
       "...               ...             ...          ...         ...       ...   \n",
       "1082        -7.987989       -7.412568     0.609936   -1.103786 -1.115043   \n",
       "1083        -3.229080       -3.997228     1.071651   -2.313929 -0.672016   \n",
       "1084        -1.558615       -1.120688    -0.099126   -1.550414 -1.115043   \n",
       "1085         0.258693        0.110911    -0.729702   -1.103786 -0.228989   \n",
       "1086        -7.987989       -7.412568    -3.397771   -2.313929 -1.872403   \n",
       "\n",
       "       폐업_점포_수  \n",
       "0    -0.522115  \n",
       "1    -1.469039  \n",
       "2     0.424809  \n",
       "3     0.031800  \n",
       "4     0.729650  \n",
       "...        ...  \n",
       "1082 -0.522115  \n",
       "1083 -0.522115  \n",
       "1084 -1.469039  \n",
       "1085 -0.522115  \n",
       "1086 -0.522115  \n",
       "\n",
       "[1087 rows x 11 columns]"
      ]
     },
     "execution_count": 44,
     "metadata": {},
     "output_type": "execute_result"
    }
   ],
   "source": [
    "df2 = df.loc[:, ~df.columns.isin(['상권_코드_명','시군구_명'])]\n",
    "df2\n",
    "#필요없는 변수 삭제"
   ]
  },
  {
   "cell_type": "markdown",
   "id": "f2204b0d",
   "metadata": {},
   "source": [
    "데이터를 train valid 나누었습니다. 그 후 gridsearchCV를 통해 파라미터를 조절했습니다."
   ]
  },
  {
   "cell_type": "code",
   "execution_count": 62,
   "id": "6d67672a",
   "metadata": {},
   "outputs": [
    {
     "data": {
      "text/html": [
       "<style>#sk-container-id-29 {color: black;background-color: white;}#sk-container-id-29 pre{padding: 0;}#sk-container-id-29 div.sk-toggleable {background-color: white;}#sk-container-id-29 label.sk-toggleable__label {cursor: pointer;display: block;width: 100%;margin-bottom: 0;padding: 0.3em;box-sizing: border-box;text-align: center;}#sk-container-id-29 label.sk-toggleable__label-arrow:before {content: \"▸\";float: left;margin-right: 0.25em;color: #696969;}#sk-container-id-29 label.sk-toggleable__label-arrow:hover:before {color: black;}#sk-container-id-29 div.sk-estimator:hover label.sk-toggleable__label-arrow:before {color: black;}#sk-container-id-29 div.sk-toggleable__content {max-height: 0;max-width: 0;overflow: hidden;text-align: left;background-color: #f0f8ff;}#sk-container-id-29 div.sk-toggleable__content pre {margin: 0.2em;color: black;border-radius: 0.25em;background-color: #f0f8ff;}#sk-container-id-29 input.sk-toggleable__control:checked~div.sk-toggleable__content {max-height: 200px;max-width: 100%;overflow: auto;}#sk-container-id-29 input.sk-toggleable__control:checked~label.sk-toggleable__label-arrow:before {content: \"▾\";}#sk-container-id-29 div.sk-estimator input.sk-toggleable__control:checked~label.sk-toggleable__label {background-color: #d4ebff;}#sk-container-id-29 div.sk-label input.sk-toggleable__control:checked~label.sk-toggleable__label {background-color: #d4ebff;}#sk-container-id-29 input.sk-hidden--visually {border: 0;clip: rect(1px 1px 1px 1px);clip: rect(1px, 1px, 1px, 1px);height: 1px;margin: -1px;overflow: hidden;padding: 0;position: absolute;width: 1px;}#sk-container-id-29 div.sk-estimator {font-family: monospace;background-color: #f0f8ff;border: 1px dotted black;border-radius: 0.25em;box-sizing: border-box;margin-bottom: 0.5em;}#sk-container-id-29 div.sk-estimator:hover {background-color: #d4ebff;}#sk-container-id-29 div.sk-parallel-item::after {content: \"\";width: 100%;border-bottom: 1px solid gray;flex-grow: 1;}#sk-container-id-29 div.sk-label:hover label.sk-toggleable__label {background-color: #d4ebff;}#sk-container-id-29 div.sk-serial::before {content: \"\";position: absolute;border-left: 1px solid gray;box-sizing: border-box;top: 0;bottom: 0;left: 50%;z-index: 0;}#sk-container-id-29 div.sk-serial {display: flex;flex-direction: column;align-items: center;background-color: white;padding-right: 0.2em;padding-left: 0.2em;position: relative;}#sk-container-id-29 div.sk-item {position: relative;z-index: 1;}#sk-container-id-29 div.sk-parallel {display: flex;align-items: stretch;justify-content: center;background-color: white;position: relative;}#sk-container-id-29 div.sk-item::before, #sk-container-id-29 div.sk-parallel-item::before {content: \"\";position: absolute;border-left: 1px solid gray;box-sizing: border-box;top: 0;bottom: 0;left: 50%;z-index: -1;}#sk-container-id-29 div.sk-parallel-item {display: flex;flex-direction: column;z-index: 1;position: relative;background-color: white;}#sk-container-id-29 div.sk-parallel-item:first-child::after {align-self: flex-end;width: 50%;}#sk-container-id-29 div.sk-parallel-item:last-child::after {align-self: flex-start;width: 50%;}#sk-container-id-29 div.sk-parallel-item:only-child::after {width: 0;}#sk-container-id-29 div.sk-dashed-wrapped {border: 1px dashed gray;margin: 0 0.4em 0.5em 0.4em;box-sizing: border-box;padding-bottom: 0.4em;background-color: white;}#sk-container-id-29 div.sk-label label {font-family: monospace;font-weight: bold;display: inline-block;line-height: 1.2em;}#sk-container-id-29 div.sk-label-container {text-align: center;}#sk-container-id-29 div.sk-container {/* jupyter's `normalize.less` sets `[hidden] { display: none; }` but bootstrap.min.css set `[hidden] { display: none !important; }` so we also need the `!important` here to be able to override the default hidden behavior on the sphinx rendered scikit-learn.org. See: https://github.com/scikit-learn/scikit-learn/issues/21755 */display: inline-block !important;position: relative;}#sk-container-id-29 div.sk-text-repr-fallback {display: none;}</style><div id=\"sk-container-id-29\" class=\"sk-top-container\"><div class=\"sk-text-repr-fallback\"><pre>RandomForestRegressor(max_depth=10, min_samples_leaf=35, random_state=1)</pre><b>In a Jupyter environment, please rerun this cell to show the HTML representation or trust the notebook. <br />On GitHub, the HTML representation is unable to render, please try loading this page with nbviewer.org.</b></div><div class=\"sk-container\" hidden><div class=\"sk-item\"><div class=\"sk-estimator sk-toggleable\"><input class=\"sk-toggleable__control sk-hidden--visually\" id=\"sk-estimator-id-41\" type=\"checkbox\" checked><label for=\"sk-estimator-id-41\" class=\"sk-toggleable__label sk-toggleable__label-arrow\">RandomForestRegressor</label><div class=\"sk-toggleable__content\"><pre>RandomForestRegressor(max_depth=10, min_samples_leaf=35, random_state=1)</pre></div></div></div></div></div>"
      ],
      "text/plain": [
       "RandomForestRegressor(max_depth=10, min_samples_leaf=35, random_state=1)"
      ]
     },
     "execution_count": 62,
     "metadata": {},
     "output_type": "execute_result"
    },
    {
     "name": "stdout",
     "output_type": "stream",
     "text": [
      "train set Tree 0.6067254303931107\n",
      "test set Tree 0.46235257993169254\n",
      "MSE: 0.3609390375251022\n",
      "RMSE: 0.6007820216393814\n"
     ]
    }
   ],
   "source": [
    "# 레이블 데이터 세트 : 결정값 (Label)\n",
    "y = df2['상권별_매출액_평균']\n",
    "\n",
    "# 피처 데이터 세트\n",
    "# 결정값으로 사용한 '상권별_매출액_평균' 제외한 나머지 모든 데이터\n",
    "X = df2.drop('상권별_매출액_평균', axis=1)\n",
    "\n",
    "# 데이터 분할 \n",
    "X_train, X_test, y_train, y_test = train_test_split(X, y, test_size=0.2, random_state=0)\n",
    "\n",
    "\n",
    "model = RandomForestRegressor(random_state=1, min_samples_leaf=35, max_depth=10)\n",
    "\n",
    "\n",
    "# 모델 학습\n",
    "model.fit(X_train, y_train)\n",
    "\n",
    "# 모델 평가\n",
    "print(\"train set Tree\", model.score(X_train, y_train, sample_weight=None))\n",
    "print(\"test set Tree\", model.score(X_test, y_test, sample_weight=None))\n",
    "\n",
    "\n",
    "train_predict = model.predict(X_train)\n",
    "train_mse = mean_squared_error(train_predict, y_train)\n",
    "train_rmse = math.sqrt(train_mse)\n",
    "#MSE 값이 작을수록 모델의 예측이 실제 값과 가깝다는 것을 의미\n",
    "print(\"MSE:\", train_mse)\n",
    "# RMSE 실제값과 예측값의 차이 : 값이 작을수록 좋음 \n",
    "print(\"RMSE:\", train_rmse )\n"
   ]
  },
  {
   "cell_type": "code",
   "execution_count": 63,
   "id": "c44b4ee7",
   "metadata": {},
   "outputs": [
    {
     "data": {
      "text/html": [
       "<style>#sk-container-id-30 {color: black;background-color: white;}#sk-container-id-30 pre{padding: 0;}#sk-container-id-30 div.sk-toggleable {background-color: white;}#sk-container-id-30 label.sk-toggleable__label {cursor: pointer;display: block;width: 100%;margin-bottom: 0;padding: 0.3em;box-sizing: border-box;text-align: center;}#sk-container-id-30 label.sk-toggleable__label-arrow:before {content: \"▸\";float: left;margin-right: 0.25em;color: #696969;}#sk-container-id-30 label.sk-toggleable__label-arrow:hover:before {color: black;}#sk-container-id-30 div.sk-estimator:hover label.sk-toggleable__label-arrow:before {color: black;}#sk-container-id-30 div.sk-toggleable__content {max-height: 0;max-width: 0;overflow: hidden;text-align: left;background-color: #f0f8ff;}#sk-container-id-30 div.sk-toggleable__content pre {margin: 0.2em;color: black;border-radius: 0.25em;background-color: #f0f8ff;}#sk-container-id-30 input.sk-toggleable__control:checked~div.sk-toggleable__content {max-height: 200px;max-width: 100%;overflow: auto;}#sk-container-id-30 input.sk-toggleable__control:checked~label.sk-toggleable__label-arrow:before {content: \"▾\";}#sk-container-id-30 div.sk-estimator input.sk-toggleable__control:checked~label.sk-toggleable__label {background-color: #d4ebff;}#sk-container-id-30 div.sk-label input.sk-toggleable__control:checked~label.sk-toggleable__label {background-color: #d4ebff;}#sk-container-id-30 input.sk-hidden--visually {border: 0;clip: rect(1px 1px 1px 1px);clip: rect(1px, 1px, 1px, 1px);height: 1px;margin: -1px;overflow: hidden;padding: 0;position: absolute;width: 1px;}#sk-container-id-30 div.sk-estimator {font-family: monospace;background-color: #f0f8ff;border: 1px dotted black;border-radius: 0.25em;box-sizing: border-box;margin-bottom: 0.5em;}#sk-container-id-30 div.sk-estimator:hover {background-color: #d4ebff;}#sk-container-id-30 div.sk-parallel-item::after {content: \"\";width: 100%;border-bottom: 1px solid gray;flex-grow: 1;}#sk-container-id-30 div.sk-label:hover label.sk-toggleable__label {background-color: #d4ebff;}#sk-container-id-30 div.sk-serial::before {content: \"\";position: absolute;border-left: 1px solid gray;box-sizing: border-box;top: 0;bottom: 0;left: 50%;z-index: 0;}#sk-container-id-30 div.sk-serial {display: flex;flex-direction: column;align-items: center;background-color: white;padding-right: 0.2em;padding-left: 0.2em;position: relative;}#sk-container-id-30 div.sk-item {position: relative;z-index: 1;}#sk-container-id-30 div.sk-parallel {display: flex;align-items: stretch;justify-content: center;background-color: white;position: relative;}#sk-container-id-30 div.sk-item::before, #sk-container-id-30 div.sk-parallel-item::before {content: \"\";position: absolute;border-left: 1px solid gray;box-sizing: border-box;top: 0;bottom: 0;left: 50%;z-index: -1;}#sk-container-id-30 div.sk-parallel-item {display: flex;flex-direction: column;z-index: 1;position: relative;background-color: white;}#sk-container-id-30 div.sk-parallel-item:first-child::after {align-self: flex-end;width: 50%;}#sk-container-id-30 div.sk-parallel-item:last-child::after {align-self: flex-start;width: 50%;}#sk-container-id-30 div.sk-parallel-item:only-child::after {width: 0;}#sk-container-id-30 div.sk-dashed-wrapped {border: 1px dashed gray;margin: 0 0.4em 0.5em 0.4em;box-sizing: border-box;padding-bottom: 0.4em;background-color: white;}#sk-container-id-30 div.sk-label label {font-family: monospace;font-weight: bold;display: inline-block;line-height: 1.2em;}#sk-container-id-30 div.sk-label-container {text-align: center;}#sk-container-id-30 div.sk-container {/* jupyter's `normalize.less` sets `[hidden] { display: none; }` but bootstrap.min.css set `[hidden] { display: none !important; }` so we also need the `!important` here to be able to override the default hidden behavior on the sphinx rendered scikit-learn.org. See: https://github.com/scikit-learn/scikit-learn/issues/21755 */display: inline-block !important;position: relative;}#sk-container-id-30 div.sk-text-repr-fallback {display: none;}</style><div id=\"sk-container-id-30\" class=\"sk-top-container\"><div class=\"sk-text-repr-fallback\"><pre>GridSearchCV(cv=2, estimator=RandomForestRegressor(n_jobs=-1, random_state=0),\n",
       "             n_jobs=-1,\n",
       "             param_grid={&#x27;max_depth&#x27;: [5, 8], &#x27;min_samples_leaf&#x27;: [8, 18],\n",
       "                         &#x27;min_samples_split&#x27;: [8, 16],\n",
       "                         &#x27;n_estimators&#x27;: [100, 200]})</pre><b>In a Jupyter environment, please rerun this cell to show the HTML representation or trust the notebook. <br />On GitHub, the HTML representation is unable to render, please try loading this page with nbviewer.org.</b></div><div class=\"sk-container\" hidden><div class=\"sk-item sk-dashed-wrapped\"><div class=\"sk-label-container\"><div class=\"sk-label sk-toggleable\"><input class=\"sk-toggleable__control sk-hidden--visually\" id=\"sk-estimator-id-42\" type=\"checkbox\" ><label for=\"sk-estimator-id-42\" class=\"sk-toggleable__label sk-toggleable__label-arrow\">GridSearchCV</label><div class=\"sk-toggleable__content\"><pre>GridSearchCV(cv=2, estimator=RandomForestRegressor(n_jobs=-1, random_state=0),\n",
       "             n_jobs=-1,\n",
       "             param_grid={&#x27;max_depth&#x27;: [5, 8], &#x27;min_samples_leaf&#x27;: [8, 18],\n",
       "                         &#x27;min_samples_split&#x27;: [8, 16],\n",
       "                         &#x27;n_estimators&#x27;: [100, 200]})</pre></div></div></div><div class=\"sk-parallel\"><div class=\"sk-parallel-item\"><div class=\"sk-item\"><div class=\"sk-label-container\"><div class=\"sk-label sk-toggleable\"><input class=\"sk-toggleable__control sk-hidden--visually\" id=\"sk-estimator-id-43\" type=\"checkbox\" ><label for=\"sk-estimator-id-43\" class=\"sk-toggleable__label sk-toggleable__label-arrow\">estimator: RandomForestRegressor</label><div class=\"sk-toggleable__content\"><pre>RandomForestRegressor(n_jobs=-1, random_state=0)</pre></div></div></div><div class=\"sk-serial\"><div class=\"sk-item\"><div class=\"sk-estimator sk-toggleable\"><input class=\"sk-toggleable__control sk-hidden--visually\" id=\"sk-estimator-id-44\" type=\"checkbox\" ><label for=\"sk-estimator-id-44\" class=\"sk-toggleable__label sk-toggleable__label-arrow\">RandomForestRegressor</label><div class=\"sk-toggleable__content\"><pre>RandomForestRegressor(n_jobs=-1, random_state=0)</pre></div></div></div></div></div></div></div></div></div></div>"
      ],
      "text/plain": [
       "GridSearchCV(cv=2, estimator=RandomForestRegressor(n_jobs=-1, random_state=0),\n",
       "             n_jobs=-1,\n",
       "             param_grid={'max_depth': [5, 8], 'min_samples_leaf': [8, 18],\n",
       "                         'min_samples_split': [8, 16],\n",
       "                         'n_estimators': [100, 200]})"
      ]
     },
     "execution_count": 63,
     "metadata": {},
     "output_type": "execute_result"
    },
    {
     "name": "stdout",
     "output_type": "stream",
     "text": [
      "최적 하이퍼파라미터: {'max_depth': 8, 'min_samples_leaf': 8, 'min_samples_split': 8, 'n_estimators': 100}\n",
      "최고 예측 성능: 0.5870\n"
     ]
    },
    {
     "data": {
      "text/html": [
       "<style>#sk-container-id-31 {color: black;background-color: white;}#sk-container-id-31 pre{padding: 0;}#sk-container-id-31 div.sk-toggleable {background-color: white;}#sk-container-id-31 label.sk-toggleable__label {cursor: pointer;display: block;width: 100%;margin-bottom: 0;padding: 0.3em;box-sizing: border-box;text-align: center;}#sk-container-id-31 label.sk-toggleable__label-arrow:before {content: \"▸\";float: left;margin-right: 0.25em;color: #696969;}#sk-container-id-31 label.sk-toggleable__label-arrow:hover:before {color: black;}#sk-container-id-31 div.sk-estimator:hover label.sk-toggleable__label-arrow:before {color: black;}#sk-container-id-31 div.sk-toggleable__content {max-height: 0;max-width: 0;overflow: hidden;text-align: left;background-color: #f0f8ff;}#sk-container-id-31 div.sk-toggleable__content pre {margin: 0.2em;color: black;border-radius: 0.25em;background-color: #f0f8ff;}#sk-container-id-31 input.sk-toggleable__control:checked~div.sk-toggleable__content {max-height: 200px;max-width: 100%;overflow: auto;}#sk-container-id-31 input.sk-toggleable__control:checked~label.sk-toggleable__label-arrow:before {content: \"▾\";}#sk-container-id-31 div.sk-estimator input.sk-toggleable__control:checked~label.sk-toggleable__label {background-color: #d4ebff;}#sk-container-id-31 div.sk-label input.sk-toggleable__control:checked~label.sk-toggleable__label {background-color: #d4ebff;}#sk-container-id-31 input.sk-hidden--visually {border: 0;clip: rect(1px 1px 1px 1px);clip: rect(1px, 1px, 1px, 1px);height: 1px;margin: -1px;overflow: hidden;padding: 0;position: absolute;width: 1px;}#sk-container-id-31 div.sk-estimator {font-family: monospace;background-color: #f0f8ff;border: 1px dotted black;border-radius: 0.25em;box-sizing: border-box;margin-bottom: 0.5em;}#sk-container-id-31 div.sk-estimator:hover {background-color: #d4ebff;}#sk-container-id-31 div.sk-parallel-item::after {content: \"\";width: 100%;border-bottom: 1px solid gray;flex-grow: 1;}#sk-container-id-31 div.sk-label:hover label.sk-toggleable__label {background-color: #d4ebff;}#sk-container-id-31 div.sk-serial::before {content: \"\";position: absolute;border-left: 1px solid gray;box-sizing: border-box;top: 0;bottom: 0;left: 50%;z-index: 0;}#sk-container-id-31 div.sk-serial {display: flex;flex-direction: column;align-items: center;background-color: white;padding-right: 0.2em;padding-left: 0.2em;position: relative;}#sk-container-id-31 div.sk-item {position: relative;z-index: 1;}#sk-container-id-31 div.sk-parallel {display: flex;align-items: stretch;justify-content: center;background-color: white;position: relative;}#sk-container-id-31 div.sk-item::before, #sk-container-id-31 div.sk-parallel-item::before {content: \"\";position: absolute;border-left: 1px solid gray;box-sizing: border-box;top: 0;bottom: 0;left: 50%;z-index: -1;}#sk-container-id-31 div.sk-parallel-item {display: flex;flex-direction: column;z-index: 1;position: relative;background-color: white;}#sk-container-id-31 div.sk-parallel-item:first-child::after {align-self: flex-end;width: 50%;}#sk-container-id-31 div.sk-parallel-item:last-child::after {align-self: flex-start;width: 50%;}#sk-container-id-31 div.sk-parallel-item:only-child::after {width: 0;}#sk-container-id-31 div.sk-dashed-wrapped {border: 1px dashed gray;margin: 0 0.4em 0.5em 0.4em;box-sizing: border-box;padding-bottom: 0.4em;background-color: white;}#sk-container-id-31 div.sk-label label {font-family: monospace;font-weight: bold;display: inline-block;line-height: 1.2em;}#sk-container-id-31 div.sk-label-container {text-align: center;}#sk-container-id-31 div.sk-container {/* jupyter's `normalize.less` sets `[hidden] { display: none; }` but bootstrap.min.css set `[hidden] { display: none !important; }` so we also need the `!important` here to be able to override the default hidden behavior on the sphinx rendered scikit-learn.org. See: https://github.com/scikit-learn/scikit-learn/issues/21755 */display: inline-block !important;position: relative;}#sk-container-id-31 div.sk-text-repr-fallback {display: none;}</style><div id=\"sk-container-id-31\" class=\"sk-top-container\"><div class=\"sk-text-repr-fallback\"><pre>RandomForestRegressor(max_depth=8, min_samples_leaf=8, min_samples_split=8,\n",
       "                      random_state=0)</pre><b>In a Jupyter environment, please rerun this cell to show the HTML representation or trust the notebook. <br />On GitHub, the HTML representation is unable to render, please try loading this page with nbviewer.org.</b></div><div class=\"sk-container\" hidden><div class=\"sk-item\"><div class=\"sk-estimator sk-toggleable\"><input class=\"sk-toggleable__control sk-hidden--visually\" id=\"sk-estimator-id-45\" type=\"checkbox\" checked><label for=\"sk-estimator-id-45\" class=\"sk-toggleable__label sk-toggleable__label-arrow\">RandomForestRegressor</label><div class=\"sk-toggleable__content\"><pre>RandomForestRegressor(max_depth=8, min_samples_leaf=8, min_samples_split=8,\n",
       "                      random_state=0)</pre></div></div></div></div></div>"
      ],
      "text/plain": [
       "RandomForestRegressor(max_depth=8, min_samples_leaf=8, min_samples_split=8,\n",
       "                      random_state=0)"
      ]
     },
     "execution_count": 63,
     "metadata": {},
     "output_type": "execute_result"
    },
    {
     "name": "stdout",
     "output_type": "stream",
     "text": [
      "MSE: 0.24024074183631244\n",
      "RMSE:0.4901435930789185\n"
     ]
    }
   ],
   "source": [
    "# # 레이블 데이터 세트 : 결정값 (Label)\n",
    "# y = df2['상권별_매출액_평균']\n",
    "\n",
    "# # 피처 데이터 세트\n",
    "# # 결정값으로 사용한 '상권별_매출액_평균' 제외한 나머지 모든 데이터\n",
    "# X = df2.drop('상권별_매출액_평균', axis=1)\n",
    "\n",
    "# # 데이터 분할 \n",
    "# X_train, X_valid, y_train, y_valid = train_test_split(X, y, test_size=0.2, random_state=0)\n",
    "\n",
    "# 하이퍼파라미터 그리드 설정\n",
    "params = {\n",
    "    'n_estimators': [100, 200],\n",
    "    'max_depth': [5, 8],\n",
    "    'min_samples_leaf': [8, 18],\n",
    "    'min_samples_split': [8, 16]\n",
    "}\n",
    "\n",
    "# RandomForestRegressor 모델 생성\n",
    "rf = RandomForestRegressor(random_state=0, n_jobs=-1)\n",
    "\n",
    "# 그리드 서치를 통한 최적의 하이퍼파라미터 탐색\n",
    "grid_cv = GridSearchCV(rf, param_grid=params, cv=2, n_jobs=-1)\n",
    "grid_cv.fit(X_train, y_train)\n",
    "\n",
    "# 최적의 하이퍼파라미터와 예측 정확도 출력\n",
    "print('최적 하이퍼파라미터:', grid_cv.best_params_)\n",
    "print('최고 예측 성능: {0:.4f}'.format(grid_cv.best_score_))\n",
    "\n",
    "rf = RandomForestRegressor(random_state=0, max_depth=8, min_samples_leaf=8, min_samples_split=8, n_estimators=100)\n",
    "rf.fit(X_train, y_train)\n",
    "\n",
    "# train rmse\n",
    "train_predict = rf.predict(X_train)\n",
    "train_predict = rf.predict(X_train)\n",
    "train_mse = mean_squared_error(train_predict, y_train)\n",
    "print(\"MSE: {}\".format(train_mse))\n",
    "\n",
    "print(\"RMSE:{}\".format(math.sqrt(mean_squared_error(train_predict, y_train))) )"
   ]
  },
  {
   "cell_type": "markdown",
   "id": "5978fa1b",
   "metadata": {},
   "source": [
    "# 랜덤포레스트 득점모델 학습을 진행하였습니다. \n",
    "#GridSearchCV를 통해 파라미터를 찾아 \n",
    "#이를 적용해 랜덤포레스트 모델을 만든후 학습데이터를 넣어서 모델을 학습시켰습니다."
   ]
  },
  {
   "cell_type": "code",
   "execution_count": 50,
   "id": "1eae1e6c",
   "metadata": {
    "scrolled": true
   },
   "outputs": [
    {
     "data": {
      "text/html": [
       "<style>#sk-container-id-28 {color: black;background-color: white;}#sk-container-id-28 pre{padding: 0;}#sk-container-id-28 div.sk-toggleable {background-color: white;}#sk-container-id-28 label.sk-toggleable__label {cursor: pointer;display: block;width: 100%;margin-bottom: 0;padding: 0.3em;box-sizing: border-box;text-align: center;}#sk-container-id-28 label.sk-toggleable__label-arrow:before {content: \"▸\";float: left;margin-right: 0.25em;color: #696969;}#sk-container-id-28 label.sk-toggleable__label-arrow:hover:before {color: black;}#sk-container-id-28 div.sk-estimator:hover label.sk-toggleable__label-arrow:before {color: black;}#sk-container-id-28 div.sk-toggleable__content {max-height: 0;max-width: 0;overflow: hidden;text-align: left;background-color: #f0f8ff;}#sk-container-id-28 div.sk-toggleable__content pre {margin: 0.2em;color: black;border-radius: 0.25em;background-color: #f0f8ff;}#sk-container-id-28 input.sk-toggleable__control:checked~div.sk-toggleable__content {max-height: 200px;max-width: 100%;overflow: auto;}#sk-container-id-28 input.sk-toggleable__control:checked~label.sk-toggleable__label-arrow:before {content: \"▾\";}#sk-container-id-28 div.sk-estimator input.sk-toggleable__control:checked~label.sk-toggleable__label {background-color: #d4ebff;}#sk-container-id-28 div.sk-label input.sk-toggleable__control:checked~label.sk-toggleable__label {background-color: #d4ebff;}#sk-container-id-28 input.sk-hidden--visually {border: 0;clip: rect(1px 1px 1px 1px);clip: rect(1px, 1px, 1px, 1px);height: 1px;margin: -1px;overflow: hidden;padding: 0;position: absolute;width: 1px;}#sk-container-id-28 div.sk-estimator {font-family: monospace;background-color: #f0f8ff;border: 1px dotted black;border-radius: 0.25em;box-sizing: border-box;margin-bottom: 0.5em;}#sk-container-id-28 div.sk-estimator:hover {background-color: #d4ebff;}#sk-container-id-28 div.sk-parallel-item::after {content: \"\";width: 100%;border-bottom: 1px solid gray;flex-grow: 1;}#sk-container-id-28 div.sk-label:hover label.sk-toggleable__label {background-color: #d4ebff;}#sk-container-id-28 div.sk-serial::before {content: \"\";position: absolute;border-left: 1px solid gray;box-sizing: border-box;top: 0;bottom: 0;left: 50%;z-index: 0;}#sk-container-id-28 div.sk-serial {display: flex;flex-direction: column;align-items: center;background-color: white;padding-right: 0.2em;padding-left: 0.2em;position: relative;}#sk-container-id-28 div.sk-item {position: relative;z-index: 1;}#sk-container-id-28 div.sk-parallel {display: flex;align-items: stretch;justify-content: center;background-color: white;position: relative;}#sk-container-id-28 div.sk-item::before, #sk-container-id-28 div.sk-parallel-item::before {content: \"\";position: absolute;border-left: 1px solid gray;box-sizing: border-box;top: 0;bottom: 0;left: 50%;z-index: -1;}#sk-container-id-28 div.sk-parallel-item {display: flex;flex-direction: column;z-index: 1;position: relative;background-color: white;}#sk-container-id-28 div.sk-parallel-item:first-child::after {align-self: flex-end;width: 50%;}#sk-container-id-28 div.sk-parallel-item:last-child::after {align-self: flex-start;width: 50%;}#sk-container-id-28 div.sk-parallel-item:only-child::after {width: 0;}#sk-container-id-28 div.sk-dashed-wrapped {border: 1px dashed gray;margin: 0 0.4em 0.5em 0.4em;box-sizing: border-box;padding-bottom: 0.4em;background-color: white;}#sk-container-id-28 div.sk-label label {font-family: monospace;font-weight: bold;display: inline-block;line-height: 1.2em;}#sk-container-id-28 div.sk-label-container {text-align: center;}#sk-container-id-28 div.sk-container {/* jupyter's `normalize.less` sets `[hidden] { display: none; }` but bootstrap.min.css set `[hidden] { display: none !important; }` so we also need the `!important` here to be able to override the default hidden behavior on the sphinx rendered scikit-learn.org. See: https://github.com/scikit-learn/scikit-learn/issues/21755 */display: inline-block !important;position: relative;}#sk-container-id-28 div.sk-text-repr-fallback {display: none;}</style><div id=\"sk-container-id-28\" class=\"sk-top-container\"><div class=\"sk-text-repr-fallback\"><pre>RandomForestRegressor(max_depth=8, min_samples_leaf=8, min_samples_split=8,\n",
       "                      random_state=0)</pre><b>In a Jupyter environment, please rerun this cell to show the HTML representation or trust the notebook. <br />On GitHub, the HTML representation is unable to render, please try loading this page with nbviewer.org.</b></div><div class=\"sk-container\" hidden><div class=\"sk-item\"><div class=\"sk-estimator sk-toggleable\"><input class=\"sk-toggleable__control sk-hidden--visually\" id=\"sk-estimator-id-40\" type=\"checkbox\" checked><label for=\"sk-estimator-id-40\" class=\"sk-toggleable__label sk-toggleable__label-arrow\">RandomForestRegressor</label><div class=\"sk-toggleable__content\"><pre>RandomForestRegressor(max_depth=8, min_samples_leaf=8, min_samples_split=8,\n",
       "                      random_state=0)</pre></div></div></div></div></div>"
      ],
      "text/plain": [
       "RandomForestRegressor(max_depth=8, min_samples_leaf=8, min_samples_split=8,\n",
       "                      random_state=0)"
      ]
     },
     "execution_count": 50,
     "metadata": {},
     "output_type": "execute_result"
    }
   ],
   "source": [
    "rf = RandomForestRegressor(random_state=0, max_depth=8, min_samples_leaf=8, min_samples_split=8, n_estimators=100)\n",
    "rf.fit(X_train, y_train)"
   ]
  },
  {
   "cell_type": "code",
   "execution_count": 51,
   "id": "92c592af",
   "metadata": {},
   "outputs": [
    {
     "name": "stdout",
     "output_type": "stream",
     "text": [
      "MSE: 0.24024074183631244\n",
      "RMSE:0.4901435930789185\n"
     ]
    }
   ],
   "source": [
    "# train rmse\n",
    "train_predict = rf.predict(X_train)# train mse\n",
    "train_predict = rf.predict(X_train)\n",
    "train_mse = mean_squared_error(train_predict, y_train)\n",
    "print(\"MSE: {}\".format(train_mse))\n",
    "\n",
    "print(\"RMSE:{}\".format(math.sqrt(mean_squared_error(train_predict, y_train))) )\n",
    " "
   ]
  },
  {
   "cell_type": "code",
   "execution_count": 61,
   "id": "c870442c",
   "metadata": {},
   "outputs": [
    {
     "data": {
      "text/plain": [
       "점포_수               0.079954\n",
       "식료품_지출_총금액         0.007754\n",
       "교통_지출_총금액          0.002678\n",
       "시간대_아침점심_생활인구_수    0.003521\n",
       "시간대_오후저녁_생활인구_수    0.002330\n",
       "시간대_밤새벽_생활인구_수     0.011245\n",
       "상권별_매출건수_평균        0.882303\n",
       "프랜차이즈_점포_수         0.001510\n",
       "개업_점포_수            0.003273\n",
       "폐업_점포_수            0.005433\n",
       "dtype: float64"
      ]
     },
     "execution_count": 61,
     "metadata": {},
     "output_type": "execute_result"
    },
    {
     "data": {
      "text/plain": [
       "<Axes: >"
      ]
     },
     "execution_count": 61,
     "metadata": {},
     "output_type": "execute_result"
    },
    {
     "data": {
      "image/png": "[encoded data removed]",
      "text/plain": [
       "<Figure size 2000x2000 with 1 Axes>"
      ]
     },
     "metadata": {},
     "output_type": "display_data"
    }
   ],
   "source": [
    "import matplotlib.pyplot as plt # 득점모델 변수 중요도\n",
    "import seaborn as sns\n",
    "%matplotlib inline\n",
    " \n",
    "# ftr_importances_values = rf_run.feature_importances_\n",
    "# ftr_importances = pd.Series(ftr_importances_values, index=X_train.columns)\n",
    "# ftr_top = ftr_importances.sort_values(ascending=False)[:20]\n",
    " \n",
    "# plt.figure(figsize=(8, 6))\n",
    "# sns.barplot(x=ftr_top, y=ftr_top.index)\n",
    "# plt.show()\n",
    "\n",
    "# feature_importances_ 메소드로 피처 중요도 확인\n",
    "feature_series = pd.Series(data= model.feature_importances_, index=X.columns )\n",
    "feature_series\n",
    "\n",
    "feature_series = feature_series.sort_values(ascending=False)\n",
    "sns.barplot(x= feature_series, y=feature_series.index)\n"
   ]
  },
  {
   "cell_type": "markdown",
   "id": "47522b5a",
   "metadata": {},
   "source": [
    "###### <xgm부스트> <light gbm>, 발표 자료 및 대본 튜닝 전과 후, cv50  이랬고 저랬다... "
   ]
  },
  {
   "cell_type": "markdown",
   "id": "896e6aee",
   "metadata": {},
   "source": []
  },
  {
   "cell_type": "code",
   "execution_count": 53,
   "id": "2fb96265",
   "metadata": {},
   "outputs": [],
   "source": [
    "############ xgboost, lightbgm"
   ]
  },
  {
   "cell_type": "code",
   "execution_count": 54,
   "id": "2b547f9a",
   "metadata": {
    "scrolled": true
   },
   "outputs": [],
   "source": [
    "#!pip install xgboost"
   ]
  },
  {
   "cell_type": "code",
   "execution_count": 55,
   "id": "eee20c18",
   "metadata": {},
   "outputs": [],
   "source": [
    "#!pip install lightgbm"
   ]
  },
  {
   "cell_type": "code",
   "execution_count": 56,
   "id": "4cc9659f",
   "metadata": {},
   "outputs": [],
   "source": [
    "#데이터 분할로 검증데이터의 비율을 가져오고 모델학습 진행"
   ]
  },
  {
   "cell_type": "code",
   "execution_count": 57,
   "id": "d8f3696c",
   "metadata": {},
   "outputs": [
    {
     "ename": "NameError",
     "evalue": "name 'xgb' is not defined",
     "output_type": "error",
     "traceback": [
      "\u001b[0;31m---------------------------------------------------------------------------\u001b[0m",
      "\u001b[0;31mNameError\u001b[0m                                 Traceback (most recent call last)",
      "Cell \u001b[0;32mIn[57], line 5\u001b[0m\n\u001b[1;32m      2\u001b[0m X_train, X_valid, y_train, y_valid \u001b[38;5;241m=\u001b[39m train_test_split(X, y, test_size\u001b[38;5;241m=\u001b[39m\u001b[38;5;241m0.2\u001b[39m, random_state\u001b[38;5;241m=\u001b[39m\u001b[38;5;241m0\u001b[39m)\n\u001b[1;32m      4\u001b[0m \u001b[38;5;66;03m# XGBoost model creation\u001b[39;00m\n\u001b[0;32m----> 5\u001b[0m xgb_model \u001b[38;5;241m=\u001b[39m \u001b[43mxgb\u001b[49m\u001b[38;5;241m.\u001b[39mXGBRegressor(random_state\u001b[38;5;241m=\u001b[39m\u001b[38;5;241m0\u001b[39m, max_depth\u001b[38;5;241m=\u001b[39m\u001b[38;5;241m5\u001b[39m, min_child_weight\u001b[38;5;241m=\u001b[39m\u001b[38;5;241m8\u001b[39m, colsample_bytree\u001b[38;5;241m=\u001b[39m\u001b[38;5;241m0.8\u001b[39m, learning_rate\u001b[38;5;241m=\u001b[39m\u001b[38;5;241m0.1\u001b[39m, n_estimators\u001b[38;5;241m=\u001b[39m\u001b[38;5;241m200\u001b[39m)\n\u001b[1;32m      7\u001b[0m \u001b[38;5;66;03m# Model training\u001b[39;00m\n\u001b[1;32m      8\u001b[0m xgb_model\u001b[38;5;241m.\u001b[39mfit(X_train, y_train)\n",
      "\u001b[0;31mNameError\u001b[0m: name 'xgb' is not defined"
     ]
    }
   ],
   "source": [
    "# Data split\n",
    "X_train, X_valid, y_train, y_valid = train_test_split(X, y, test_size=0.2, random_state=0)\n",
    "\n",
    "# XGBoost model creation\n",
    "xgb_model = xgb.XGBRegressor(random_state=0, max_depth=5, min_child_weight=8, colsample_bytree=0.8, learning_rate=0.1, n_estimators=200)\n",
    "\n",
    "# Model training\n",
    "xgb_model.fit(X_train, y_train)\n",
    "\n",
    "# Train RMSE\n",
    "train_predict = xgb_model.predict(X_train)\n",
    "train_rmse = math.sqrt(mean_squared_error(train_predict, y_train))\n",
    "print(\"XGBoost Train RMSE: {}\".format(train_rmse))\n",
    "\n",
    "# Train MSE\n",
    "train_predict = xgb_model.predict(X_train)\n",
    "train_mse = mean_squared_error(train_predict, y_train)\n",
    "print(\"XGBoost Train MSE: {}\".format(train_mse))"
   ]
  },
  {
   "cell_type": "code",
   "execution_count": 58,
   "id": "3f676541",
   "metadata": {},
   "outputs": [],
   "source": [
    "###"
   ]
  },
  {
   "cell_type": "code",
   "execution_count": 59,
   "id": "f76af929",
   "metadata": {},
   "outputs": [
    {
     "ename": "NameError",
     "evalue": "name 'lgb' is not defined",
     "output_type": "error",
     "traceback": [
      "\u001b[0;31m---------------------------------------------------------------------------\u001b[0m",
      "\u001b[0;31mNameError\u001b[0m                                 Traceback (most recent call last)",
      "Cell \u001b[0;32mIn[59], line 2\u001b[0m\n\u001b[1;32m      1\u001b[0m \u001b[38;5;66;03m# LightGBM dataset\u001b[39;00m\n\u001b[0;32m----> 2\u001b[0m train_data \u001b[38;5;241m=\u001b[39m \u001b[43mlgb\u001b[49m\u001b[38;5;241m.\u001b[39mDataset(X_train, label\u001b[38;5;241m=\u001b[39my_train)\n\u001b[1;32m      4\u001b[0m \u001b[38;5;66;03m# Parameters for LightGBM\u001b[39;00m\n\u001b[1;32m      5\u001b[0m params \u001b[38;5;241m=\u001b[39m {\n\u001b[1;32m      6\u001b[0m     \u001b[38;5;124m'\u001b[39m\u001b[38;5;124mobjective\u001b[39m\u001b[38;5;124m'\u001b[39m: \u001b[38;5;124m'\u001b[39m\u001b[38;5;124mregression\u001b[39m\u001b[38;5;124m'\u001b[39m,\n\u001b[1;32m      7\u001b[0m     \u001b[38;5;124m'\u001b[39m\u001b[38;5;124mmetric\u001b[39m\u001b[38;5;124m'\u001b[39m: \u001b[38;5;124m'\u001b[39m\u001b[38;5;124mrmse\u001b[39m\u001b[38;5;124m'\u001b[39m,\n\u001b[0;32m   (...)\u001b[0m\n\u001b[1;32m     10\u001b[0m     \u001b[38;5;124m'\u001b[39m\u001b[38;5;124mn_estimators\u001b[39m\u001b[38;5;124m'\u001b[39m: \u001b[38;5;241m200\u001b[39m\n\u001b[1;32m     11\u001b[0m }\n",
      "\u001b[0;31mNameError\u001b[0m: name 'lgb' is not defined"
     ]
    }
   ],
   "source": [
    "# LightGBM dataset\n",
    "train_data = lgb.Dataset(X_train, label=y_train)\n",
    "\n",
    "# Parameters for LightGBM\n",
    "params = {\n",
    "    'objective': 'regression',\n",
    "    'metric': 'rmse',\n",
    "    'max_depth': 5,\n",
    "    'learning_rate': 0.1,\n",
    "    'n_estimators': 200\n",
    "}\n",
    "\n",
    "# Training the LightGBM model\n",
    "lgb_model = lgb.train(params, train_data)\n",
    "\n",
    "# Predicting on the training set\n",
    "train_predict = lgb_model.predict(X_train)\n",
    "train_rmse = math.sqrt(mean_squared_error(train_predict, y_train))\n",
    "print(\"LightGBM Train RMSE: {}\".format(train_rmse))\n",
    "\n",
    "# Predicting on the training set\n",
    "train_predict = lgb_model.predict(X_train)\n",
    "train_mse = mean_squared_error(train_predict, y_train)\n",
    "print(\"LightGBM Train MSE: {}\".format(train_mse))"
   ]
  },
  {
   "cell_type": "code",
   "execution_count": 60,
   "id": "33fc711b",
   "metadata": {},
   "outputs": [
    {
     "name": "stdout",
     "output_type": "stream",
     "text": [
      "Train RMSE':0.4901435930789185\n",
      "Train MSE: 0.24024074183631244\n",
      "XGBoost Train RMSE: 0.6007820216393814\n",
      "XGBoost Train MSE: 0.24024074183631244\n",
      "LightGBM Train RMSE: 0.6007820216393814\n",
      "LightGBM Train MSE: 0.24024074183631244\n"
     ]
    }
   ],
   "source": [
    "print(\"Train RMSE':{}\".format(math.sqrt(mean_squared_error(train_predict, y_train))) )\n",
    "print(\"Train MSE: {}\".format(train_mse))\n",
    "##\n",
    "print(\"XGBoost Train RMSE: {}\".format(train_rmse))\n",
    "print(\"XGBoost Train MSE: {}\".format(train_mse))\n",
    "##\n",
    "print(\"LightGBM Train RMSE: {}\".format(train_rmse))\n",
    "print(\"LightGBM Train MSE: {}\".format(train_mse))"
   ]
  },
  {
   "cell_type": "code",
   "execution_count": null,
   "id": "aecd6751",
   "metadata": {},
   "outputs": [],
   "source": []
  },
  {
   "cell_type": "code",
   "execution_count": null,
   "id": "1374d4d1",
   "metadata": {},
   "outputs": [],
   "source": []
  }
 ],
 "metadata": {
  "kernelspec": {
   "display_name": "Python 3 (ipykernel)",
   "language": "python",
   "name": "python3"
  },
  "language_info": {
   "codemirror_mode": {
    "name": "ipython",
    "version": 3
   },
   "file_extension": ".py",
   "mimetype": "text/x-python",
   "name": "python",
   "nbconvert_exporter": "python",
   "pygments_lexer": "ipython3",
   "version": "3.10.9"
  }
 },
 "nbformat": 4,
 "nbformat_minor": 5
}
